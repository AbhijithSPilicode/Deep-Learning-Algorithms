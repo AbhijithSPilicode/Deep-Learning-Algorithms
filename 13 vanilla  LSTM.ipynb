{
 "cells": [
  {
   "cell_type": "code",
   "execution_count": null,
   "id": "c4212776",
   "metadata": {},
   "outputs": [],
   "source": [
    "#A Vanilla LSTM is an LSTM model that has a single hidden layer of LSTM units, and an output layer used to make a prediction. We can define a Vanilla LSTM for univariate time series forecasting"
   ]
  },
  {
   "cell_type": "code",
   "execution_count": 82,
   "id": "f817a901",
   "metadata": {},
   "outputs": [],
   "source": [
    "sequence=[10,20,30,40,50,60,70,80,90]"
   ]
  },
  {
   "cell_type": "code",
   "execution_count": 83,
   "id": "acdc4f32",
   "metadata": {},
   "outputs": [
    {
     "data": {
      "text/plain": [
       "'X                 y\\n10,20,30             40\\n20,30,40             50'"
      ]
     },
     "execution_count": 83,
     "metadata": {},
     "output_type": "execute_result"
    }
   ],
   "source": [
    "'''X                 y\n",
    "10,20,30             40\n",
    "20,30,40             50'''"
   ]
  },
  {
   "cell_type": "code",
   "execution_count": 84,
   "id": "bf94181d",
   "metadata": {},
   "outputs": [],
   "source": [
    "import numpy as np\n",
    "def split_sequence(sequence,n_steps):\n",
    "    X,y=list(),list()\n",
    "    for i in range(len(sequence)):\n",
    "        #find the end of this pattern\n",
    "        end_ix=i+n_steps\n",
    "        if end_ix>len(sequence)-1:\n",
    "            break\n",
    "            \n",
    "        #gather input and output parts of the pattern\n",
    "        seq_x,seq_y=sequence[i:end_ix],sequence[end_ix]\n",
    "        X.append(seq_x)\n",
    "        y.append(seq_y)\n",
    "    return np.array(X),np.array(y)    \n",
    "    "
   ]
  },
  {
   "cell_type": "code",
   "execution_count": 85,
   "id": "d23ed75b",
   "metadata": {},
   "outputs": [],
   "source": [
    "n_steps=3"
   ]
  },
  {
   "cell_type": "code",
   "execution_count": 86,
   "id": "3d4cc6d0",
   "metadata": {},
   "outputs": [],
   "source": [
    "X,y=split_sequence(sequence,n_steps)"
   ]
  },
  {
   "cell_type": "code",
   "execution_count": 87,
   "id": "e2685373",
   "metadata": {},
   "outputs": [
    {
     "data": {
      "text/plain": [
       "array([[10, 20, 30],\n",
       "       [20, 30, 40],\n",
       "       [30, 40, 50],\n",
       "       [40, 50, 60],\n",
       "       [50, 60, 70],\n",
       "       [60, 70, 80]])"
      ]
     },
     "execution_count": 87,
     "metadata": {},
     "output_type": "execute_result"
    }
   ],
   "source": [
    "X"
   ]
  },
  {
   "cell_type": "code",
   "execution_count": 88,
   "id": "a811f2ad",
   "metadata": {},
   "outputs": [
    {
     "data": {
      "text/plain": [
       "array([40, 50, 60, 70, 80, 90])"
      ]
     },
     "execution_count": 88,
     "metadata": {},
     "output_type": "execute_result"
    }
   ],
   "source": [
    "y"
   ]
  },
  {
   "cell_type": "code",
   "execution_count": 89,
   "id": "56e8f0f3",
   "metadata": {},
   "outputs": [
    {
     "name": "stdout",
     "output_type": "stream",
     "text": [
      "[10 20 30] 40\n",
      "[20 30 40] 50\n",
      "[30 40 50] 60\n",
      "[40 50 60] 70\n",
      "[50 60 70] 80\n",
      "[60 70 80] 90\n"
     ]
    }
   ],
   "source": [
    "for i in range(len(X)):\n",
    "    print(X[i],y[i])"
   ]
  },
  {
   "cell_type": "code",
   "execution_count": 90,
   "id": "46d5f301",
   "metadata": {},
   "outputs": [],
   "source": [
    "#vanilla LSTM has only one layer"
   ]
  },
  {
   "cell_type": "code",
   "execution_count": 91,
   "id": "5c43a606",
   "metadata": {},
   "outputs": [],
   "source": [
    "from keras.layers import Dense,LSTM\n",
    "from keras.models import Sequential"
   ]
  },
  {
   "cell_type": "code",
   "execution_count": 92,
   "id": "1da8102f",
   "metadata": {},
   "outputs": [],
   "source": [
    "n_features=1 #for univarient n_features always be 1"
   ]
  },
  {
   "cell_type": "code",
   "execution_count": 93,
   "id": "c7fb63c5",
   "metadata": {},
   "outputs": [],
   "source": [
    "model=Sequential()\n",
    "model.add(LSTM(50,activation='relu',input_shape=(n_steps,n_features)))\n",
    "model.add(Dense(1))"
   ]
  },
  {
   "cell_type": "code",
   "execution_count": 94,
   "id": "74c4160e",
   "metadata": {},
   "outputs": [],
   "source": [
    "model.compile(optimizer='adam',loss='mse')"
   ]
  },
  {
   "cell_type": "code",
   "execution_count": 95,
   "id": "47a8802a",
   "metadata": {},
   "outputs": [
    {
     "name": "stdout",
     "output_type": "stream",
     "text": [
      "Model: \"sequential_4\"\n",
      "_________________________________________________________________\n",
      "Layer (type)                 Output Shape              Param #   \n",
      "=================================================================\n",
      "lstm_3 (LSTM)                (None, 50)                10400     \n",
      "_________________________________________________________________\n",
      "dense_3 (Dense)              (None, 1)                 51        \n",
      "=================================================================\n",
      "Total params: 10,451\n",
      "Trainable params: 10,451\n",
      "Non-trainable params: 0\n",
      "_________________________________________________________________\n"
     ]
    }
   ],
   "source": [
    "model.summary()"
   ]
  },
  {
   "cell_type": "code",
   "execution_count": 96,
   "id": "79aa3e5e",
   "metadata": {},
   "outputs": [
    {
     "data": {
      "text/plain": [
       "(6, 3)"
      ]
     },
     "execution_count": 96,
     "metadata": {},
     "output_type": "execute_result"
    }
   ],
   "source": [
    "X.shape"
   ]
  },
  {
   "cell_type": "code",
   "execution_count": 97,
   "id": "3967c0d9",
   "metadata": {},
   "outputs": [
    {
     "data": {
      "text/plain": [
       "array([[[10],\n",
       "        [20],\n",
       "        [30]],\n",
       "\n",
       "       [[20],\n",
       "        [30],\n",
       "        [40]],\n",
       "\n",
       "       [[30],\n",
       "        [40],\n",
       "        [50]],\n",
       "\n",
       "       [[40],\n",
       "        [50],\n",
       "        [60]],\n",
       "\n",
       "       [[50],\n",
       "        [60],\n",
       "        [70]],\n",
       "\n",
       "       [[60],\n",
       "        [70],\n",
       "        [80]]])"
      ]
     },
     "execution_count": 97,
     "metadata": {},
     "output_type": "execute_result"
    }
   ],
   "source": [
    "#convert to 3D array\n",
    "X=X.reshape((X.shape[0],X.shape[1],n_features))\n",
    "X"
   ]
  },
  {
   "cell_type": "code",
   "execution_count": 98,
   "id": "6a854d48",
   "metadata": {},
   "outputs": [
    {
     "name": "stdout",
     "output_type": "stream",
     "text": [
      "Epoch 1/200\n",
      "1/1 [==============================] - 1s 1s/step - loss: 4584.2803\n",
      "Epoch 2/200\n",
      "1/1 [==============================] - 0s 10ms/step - loss: 4551.8384\n",
      "Epoch 3/200\n",
      "1/1 [==============================] - 0s 7ms/step - loss: 4519.3667\n",
      "Epoch 4/200\n",
      "1/1 [==============================] - 0s 12ms/step - loss: 4486.8179\n",
      "Epoch 5/200\n",
      "1/1 [==============================] - 0s 14ms/step - loss: 4454.2817\n",
      "Epoch 6/200\n",
      "1/1 [==============================] - 0s 15ms/step - loss: 4421.7334\n",
      "Epoch 7/200\n",
      "1/1 [==============================] - 0s 17ms/step - loss: 4389.0781\n",
      "Epoch 8/200\n",
      "1/1 [==============================] - 0s 11ms/step - loss: 4356.1255\n",
      "Epoch 9/200\n",
      "1/1 [==============================] - 0s 19ms/step - loss: 4322.8262\n",
      "Epoch 10/200\n",
      "1/1 [==============================] - 0s 26ms/step - loss: 4289.1079\n",
      "Epoch 11/200\n",
      "1/1 [==============================] - 0s 13ms/step - loss: 4254.8521\n",
      "Epoch 12/200\n",
      "1/1 [==============================] - 0s 24ms/step - loss: 4219.9292\n",
      "Epoch 13/200\n",
      "1/1 [==============================] - 0s 10ms/step - loss: 4184.2061\n",
      "Epoch 14/200\n",
      "1/1 [==============================] - 0s 9ms/step - loss: 4147.5889\n",
      "Epoch 15/200\n",
      "1/1 [==============================] - 0s 4ms/step - loss: 4109.8423\n",
      "Epoch 16/200\n",
      "1/1 [==============================] - 0s 10ms/step - loss: 4070.7698\n",
      "Epoch 17/200\n",
      "1/1 [==============================] - 0s 9ms/step - loss: 4030.1484\n",
      "Epoch 18/200\n",
      "1/1 [==============================] - 0s 5ms/step - loss: 3987.7188\n",
      "Epoch 19/200\n",
      "1/1 [==============================] - 0s 8ms/step - loss: 3943.1653\n",
      "Epoch 20/200\n",
      "1/1 [==============================] - 0s 5ms/step - loss: 3896.1243\n",
      "Epoch 21/200\n",
      "1/1 [==============================] - 0s 9ms/step - loss: 3846.1719\n",
      "Epoch 22/200\n",
      "1/1 [==============================] - 0s 10ms/step - loss: 3792.7410\n",
      "Epoch 23/200\n",
      "1/1 [==============================] - 0s 15ms/step - loss: 3735.1379\n",
      "Epoch 24/200\n",
      "1/1 [==============================] - 0s 14ms/step - loss: 3672.5364\n",
      "Epoch 25/200\n",
      "1/1 [==============================] - 0s 9ms/step - loss: 3603.9209\n",
      "Epoch 26/200\n",
      "1/1 [==============================] - 0s 6ms/step - loss: 3528.0413\n",
      "Epoch 27/200\n",
      "1/1 [==============================] - 0s 16ms/step - loss: 3443.3438\n",
      "Epoch 28/200\n",
      "1/1 [==============================] - 0s 17ms/step - loss: 3347.8779\n",
      "Epoch 29/200\n",
      "1/1 [==============================] - 0s 18ms/step - loss: 3239.1975\n",
      "Epoch 30/200\n",
      "1/1 [==============================] - 0s 10ms/step - loss: 3114.2793\n",
      "Epoch 31/200\n",
      "1/1 [==============================] - 0s 20ms/step - loss: 2969.5554\n",
      "Epoch 32/200\n",
      "1/1 [==============================] - 0s 6ms/step - loss: 2801.2373\n",
      "Epoch 33/200\n",
      "1/1 [==============================] - 0s 15ms/step - loss: 2606.2644\n",
      "Epoch 34/200\n",
      "1/1 [==============================] - 0s 17ms/step - loss: 2384.2249\n",
      "Epoch 35/200\n",
      "1/1 [==============================] - 0s 12ms/step - loss: 2139.9041\n",
      "Epoch 36/200\n",
      "1/1 [==============================] - 0s 12ms/step - loss: 1884.5459\n",
      "Epoch 37/200\n",
      "1/1 [==============================] - 0s 12ms/step - loss: 1632.8475\n",
      "Epoch 38/200\n",
      "1/1 [==============================] - 0s 20ms/step - loss: 1398.4404\n",
      "Epoch 39/200\n",
      "1/1 [==============================] - 0s 12ms/step - loss: 1190.5394\n",
      "Epoch 40/200\n",
      "1/1 [==============================] - 0s 13ms/step - loss: 1004.7142\n",
      "Epoch 41/200\n",
      "1/1 [==============================] - 0s 8ms/step - loss: 838.2856\n",
      "Epoch 42/200\n",
      "1/1 [==============================] - 0s 9ms/step - loss: 688.3057\n",
      "Epoch 43/200\n",
      "1/1 [==============================] - 0s 5ms/step - loss: 553.6523\n",
      "Epoch 44/200\n",
      "1/1 [==============================] - 0s 10ms/step - loss: 435.0215\n",
      "Epoch 45/200\n",
      "1/1 [==============================] - 0s 25ms/step - loss: 333.4649\n",
      "Epoch 46/200\n",
      "1/1 [==============================] - 0s 7ms/step - loss: 250.4075\n",
      "Epoch 47/200\n",
      "1/1 [==============================] - 0s 9ms/step - loss: 187.1274\n",
      "Epoch 48/200\n",
      "1/1 [==============================] - 0s 18ms/step - loss: 144.3750\n",
      "Epoch 49/200\n",
      "1/1 [==============================] - 0s 10ms/step - loss: 121.5039\n",
      "Epoch 50/200\n",
      "1/1 [==============================] - 0s 15ms/step - loss: 116.5086\n",
      "Epoch 51/200\n",
      "1/1 [==============================] - 0s 14ms/step - loss: 125.7265\n",
      "Epoch 52/200\n",
      "1/1 [==============================] - 0s 8ms/step - loss: 142.7957\n",
      "Epoch 53/200\n",
      "1/1 [==============================] - 0s 19ms/step - loss: 161.3810\n",
      "Epoch 54/200\n",
      "1/1 [==============================] - 0s 12ms/step - loss: 176.7915\n",
      "Epoch 55/200\n",
      "1/1 [==============================] - 0s 13ms/step - loss: 186.3323\n",
      "Epoch 56/200\n",
      "1/1 [==============================] - 0s 6ms/step - loss: 189.1307\n",
      "Epoch 57/200\n",
      "1/1 [==============================] - 0s 13ms/step - loss: 185.5632\n",
      "Epoch 58/200\n",
      "1/1 [==============================] - 0s 9ms/step - loss: 176.2849\n",
      "Epoch 59/200\n",
      "1/1 [==============================] - 0s 17ms/step - loss: 163.1760\n",
      "Epoch 60/200\n",
      "1/1 [==============================] - 0s 5ms/step - loss: 147.6689\n",
      "Epoch 61/200\n",
      "1/1 [==============================] - 0s 8ms/step - loss: 131.3217\n",
      "Epoch 62/200\n",
      "1/1 [==============================] - 0s 11ms/step - loss: 115.6887\n",
      "Epoch 63/200\n",
      "1/1 [==============================] - 0s 14ms/step - loss: 101.6464\n",
      "Epoch 64/200\n",
      "1/1 [==============================] - 0s 9ms/step - loss: 90.0124\n",
      "Epoch 65/200\n",
      "1/1 [==============================] - 0s 9ms/step - loss: 81.0749\n",
      "Epoch 66/200\n",
      "1/1 [==============================] - 0s 7ms/step - loss: 74.8103\n",
      "Epoch 67/200\n",
      "1/1 [==============================] - 0s 6ms/step - loss: 70.9184\n",
      "Epoch 68/200\n",
      "1/1 [==============================] - 0s 5ms/step - loss: 68.8985\n",
      "Epoch 69/200\n",
      "1/1 [==============================] - 0s 15ms/step - loss: 68.2186\n",
      "Epoch 70/200\n",
      "1/1 [==============================] - 0s 10ms/step - loss: 68.3356\n",
      "Epoch 71/200\n",
      "1/1 [==============================] - 0s 20ms/step - loss: 68.7615\n",
      "Epoch 72/200\n",
      "1/1 [==============================] - 0s 12ms/step - loss: 69.1521\n",
      "Epoch 73/200\n",
      "1/1 [==============================] - 0s 6ms/step - loss: 68.9998\n",
      "Epoch 74/200\n",
      "1/1 [==============================] - 0s 5ms/step - loss: 68.0958\n",
      "Epoch 75/200\n",
      "1/1 [==============================] - 0s 4ms/step - loss: 66.3791\n",
      "Epoch 76/200\n",
      "1/1 [==============================] - 0s 4ms/step - loss: 63.9442\n",
      "Epoch 77/200\n",
      "1/1 [==============================] - 0s 4ms/step - loss: 61.0690\n",
      "Epoch 78/200\n",
      "1/1 [==============================] - 0s 5ms/step - loss: 58.2903\n",
      "Epoch 79/200\n",
      "1/1 [==============================] - 0s 6ms/step - loss: 56.2190\n",
      "Epoch 80/200\n",
      "1/1 [==============================] - 0s 11ms/step - loss: 54.4282\n",
      "Epoch 81/200\n",
      "1/1 [==============================] - 0s 4ms/step - loss: 52.4266\n",
      "Epoch 82/200\n",
      "1/1 [==============================] - 0s 5ms/step - loss: 50.1305\n",
      "Epoch 83/200\n",
      "1/1 [==============================] - 0s 11ms/step - loss: 47.6819\n",
      "Epoch 84/200\n",
      "1/1 [==============================] - 0s 4ms/step - loss: 45.2646\n",
      "Epoch 85/200\n",
      "1/1 [==============================] - 0s 9ms/step - loss: 42.9697\n",
      "Epoch 86/200\n",
      "1/1 [==============================] - 0s 7ms/step - loss: 40.7915\n",
      "Epoch 87/200\n",
      "1/1 [==============================] - 0s 4ms/step - loss: 38.6934\n",
      "Epoch 88/200\n",
      "1/1 [==============================] - 0s 4ms/step - loss: 36.6519\n",
      "Epoch 89/200\n",
      "1/1 [==============================] - 0s 4ms/step - loss: 34.6601\n",
      "Epoch 90/200\n",
      "1/1 [==============================] - 0s 9ms/step - loss: 32.7162\n",
      "Epoch 91/200\n",
      "1/1 [==============================] - 0s 13ms/step - loss: 30.8211\n",
      "Epoch 92/200\n",
      "1/1 [==============================] - 0s 11ms/step - loss: 28.9769\n",
      "Epoch 93/200\n",
      "1/1 [==============================] - 0s 5ms/step - loss: 27.1868\n",
      "Epoch 94/200\n",
      "1/1 [==============================] - 0s 3ms/step - loss: 25.4549\n",
      "Epoch 95/200\n",
      "1/1 [==============================] - 0s 6ms/step - loss: 23.7865\n",
      "Epoch 96/200\n",
      "1/1 [==============================] - 0s 12ms/step - loss: 22.1858\n",
      "Epoch 97/200\n",
      "1/1 [==============================] - 0s 5ms/step - loss: 20.6542\n",
      "Epoch 98/200\n",
      "1/1 [==============================] - 0s 9ms/step - loss: 19.1889\n",
      "Epoch 99/200\n",
      "1/1 [==============================] - 0s 7ms/step - loss: 17.7828\n",
      "Epoch 100/200\n",
      "1/1 [==============================] - 0s 5ms/step - loss: 16.4287\n",
      "Epoch 101/200\n",
      "1/1 [==============================] - 0s 4ms/step - loss: 15.1229\n",
      "Epoch 102/200\n",
      "1/1 [==============================] - 0s 4ms/step - loss: 13.8678\n",
      "Epoch 103/200\n",
      "1/1 [==============================] - 0s 4ms/step - loss: 12.6716\n",
      "Epoch 104/200\n",
      "1/1 [==============================] - 0s 7ms/step - loss: 11.5462\n",
      "Epoch 105/200\n",
      "1/1 [==============================] - 0s 4ms/step - loss: 10.5038\n",
      "Epoch 106/200\n",
      "1/1 [==============================] - 0s 4ms/step - loss: 9.5552\n",
      "Epoch 107/200\n",
      "1/1 [==============================] - 0s 9ms/step - loss: 8.7083\n",
      "Epoch 108/200\n",
      "1/1 [==============================] - 0s 10ms/step - loss: 7.9670\n",
      "Epoch 109/200\n",
      "1/1 [==============================] - 0s 12ms/step - loss: 7.3307\n",
      "Epoch 110/200\n",
      "1/1 [==============================] - 0s 11ms/step - loss: 6.7942\n",
      "Epoch 111/200\n",
      "1/1 [==============================] - 0s 10ms/step - loss: 6.3472\n",
      "Epoch 112/200\n",
      "1/1 [==============================] - 0s 7ms/step - loss: 5.9758\n",
      "Epoch 113/200\n",
      "1/1 [==============================] - 0s 10ms/step - loss: 5.6630\n",
      "Epoch 114/200\n",
      "1/1 [==============================] - 0s 10ms/step - loss: 5.3912\n",
      "Epoch 115/200\n",
      "1/1 [==============================] - 0s 5ms/step - loss: 5.1432\n",
      "Epoch 116/200\n",
      "1/1 [==============================] - 0s 4ms/step - loss: 4.9092\n",
      "Epoch 117/200\n",
      "1/1 [==============================] - 0s 6ms/step - loss: 4.6883\n",
      "Epoch 118/200\n",
      "1/1 [==============================] - 0s 7ms/step - loss: 4.4536\n",
      "Epoch 119/200\n",
      "1/1 [==============================] - 0s 4ms/step - loss: 4.2045\n",
      "Epoch 120/200\n",
      "1/1 [==============================] - 0s 4ms/step - loss: 3.9455\n",
      "Epoch 121/200\n",
      "1/1 [==============================] - 0s 9ms/step - loss: 3.6853\n",
      "Epoch 122/200\n",
      "1/1 [==============================] - 0s 6ms/step - loss: 3.4340\n",
      "Epoch 123/200\n",
      "1/1 [==============================] - 0s 4ms/step - loss: 3.2010\n",
      "Epoch 124/200\n",
      "1/1 [==============================] - 0s 4ms/step - loss: 2.9935\n",
      "Epoch 125/200\n",
      "1/1 [==============================] - 0s 4ms/step - loss: 2.8146\n",
      "Epoch 126/200\n",
      "1/1 [==============================] - 0s 5ms/step - loss: 2.6639\n",
      "Epoch 127/200\n",
      "1/1 [==============================] - 0s 8ms/step - loss: 2.5372\n",
      "Epoch 128/200\n",
      "1/1 [==============================] - 0s 3ms/step - loss: 2.4283\n",
      "Epoch 129/200\n",
      "1/1 [==============================] - 0s 5ms/step - loss: 2.3298\n",
      "Epoch 130/200\n",
      "1/1 [==============================] - 0s 5ms/step - loss: 2.2350\n",
      "Epoch 131/200\n",
      "1/1 [==============================] - 0s 7ms/step - loss: 2.1387\n",
      "Epoch 132/200\n",
      "1/1 [==============================] - 0s 5ms/step - loss: 2.0382\n",
      "Epoch 133/200\n",
      "1/1 [==============================] - 0s 5ms/step - loss: 1.9334\n",
      "Epoch 134/200\n",
      "1/1 [==============================] - 0s 8ms/step - loss: 1.8263\n",
      "Epoch 135/200\n",
      "1/1 [==============================] - 0s 4ms/step - loss: 1.7203\n",
      "Epoch 136/200\n",
      "1/1 [==============================] - 0s 5ms/step - loss: 1.6192\n",
      "Epoch 137/200\n",
      "1/1 [==============================] - 0s 6ms/step - loss: 1.5262\n",
      "Epoch 138/200\n",
      "1/1 [==============================] - 0s 5ms/step - loss: 1.4434\n",
      "Epoch 139/200\n",
      "1/1 [==============================] - 0s 9ms/step - loss: 1.3714\n",
      "Epoch 140/200\n",
      "1/1 [==============================] - 0s 5ms/step - loss: 1.3092\n",
      "Epoch 141/200\n",
      "1/1 [==============================] - 0s 3ms/step - loss: 1.2546\n",
      "Epoch 142/200\n",
      "1/1 [==============================] - 0s 5ms/step - loss: 1.2051\n",
      "Epoch 143/200\n",
      "1/1 [==============================] - 0s 4ms/step - loss: 1.1584\n",
      "Epoch 144/200\n",
      "1/1 [==============================] - 0s 4ms/step - loss: 1.1127\n",
      "Epoch 145/200\n",
      "1/1 [==============================] - 0s 7ms/step - loss: 1.0671\n",
      "Epoch 146/200\n",
      "1/1 [==============================] - 0s 13ms/step - loss: 1.0228\n",
      "Epoch 147/200\n",
      "1/1 [==============================] - 0s 5ms/step - loss: 0.9791\n",
      "Epoch 148/200\n",
      "1/1 [==============================] - 0s 5ms/step - loss: 0.9365\n",
      "Epoch 149/200\n",
      "1/1 [==============================] - 0s 8ms/step - loss: 0.8958\n",
      "Epoch 150/200\n",
      "1/1 [==============================] - 0s 7ms/step - loss: 0.8579\n",
      "Epoch 151/200\n",
      "1/1 [==============================] - 0s 5ms/step - loss: 0.8231\n",
      "Epoch 152/200\n",
      "1/1 [==============================] - 0s 6ms/step - loss: 0.7917\n",
      "Epoch 153/200\n",
      "1/1 [==============================] - 0s 5ms/step - loss: 0.7633\n",
      "Epoch 154/200\n",
      "1/1 [==============================] - 0s 8ms/step - loss: 0.7374\n",
      "Epoch 155/200\n",
      "1/1 [==============================] - 0s 9ms/step - loss: 0.7132\n",
      "Epoch 156/200\n",
      "1/1 [==============================] - 0s 6ms/step - loss: 0.6900\n",
      "Epoch 157/200\n",
      "1/1 [==============================] - 0s 4ms/step - loss: 0.6677\n",
      "Epoch 158/200\n",
      "1/1 [==============================] - 0s 4ms/step - loss: 0.6464\n",
      "Epoch 159/200\n",
      "1/1 [==============================] - 0s 4ms/step - loss: 0.6253\n",
      "Epoch 160/200\n",
      "1/1 [==============================] - 0s 7ms/step - loss: 0.6048\n",
      "Epoch 161/200\n",
      "1/1 [==============================] - 0s 6ms/step - loss: 0.5850\n",
      "Epoch 162/200\n",
      "1/1 [==============================] - 0s 11ms/step - loss: 0.5662\n",
      "Epoch 163/200\n",
      "1/1 [==============================] - 0s 9ms/step - loss: 0.5486\n",
      "Epoch 164/200\n",
      "1/1 [==============================] - 0s 6ms/step - loss: 0.5323\n",
      "Epoch 165/200\n",
      "1/1 [==============================] - 0s 5ms/step - loss: 0.5170\n",
      "Epoch 166/200\n",
      "1/1 [==============================] - 0s 4ms/step - loss: 0.5027\n",
      "Epoch 167/200\n",
      "1/1 [==============================] - 0s 8ms/step - loss: 0.4891\n",
      "Epoch 168/200\n",
      "1/1 [==============================] - 0s 9ms/step - loss: 0.4759\n",
      "Epoch 169/200\n",
      "1/1 [==============================] - 0s 8ms/step - loss: 0.4631\n",
      "Epoch 170/200\n",
      "1/1 [==============================] - 0s 4ms/step - loss: 0.4506\n",
      "Epoch 171/200\n",
      "1/1 [==============================] - 0s 5ms/step - loss: 0.4382\n",
      "Epoch 172/200\n",
      "1/1 [==============================] - 0s 6ms/step - loss: 0.4262\n",
      "Epoch 173/200\n",
      "1/1 [==============================] - 0s 13ms/step - loss: 0.4145\n",
      "Epoch 174/200\n",
      "1/1 [==============================] - 0s 10ms/step - loss: 0.4033\n",
      "Epoch 175/200\n",
      "1/1 [==============================] - 0s 6ms/step - loss: 0.3925\n",
      "Epoch 176/200\n",
      "1/1 [==============================] - 0s 5ms/step - loss: 0.3822\n",
      "Epoch 177/200\n",
      "1/1 [==============================] - 0s 8ms/step - loss: 0.3724\n",
      "Epoch 178/200\n",
      "1/1 [==============================] - 0s 6ms/step - loss: 0.3630\n",
      "Epoch 179/200\n",
      "1/1 [==============================] - 0s 7ms/step - loss: 0.3539\n",
      "Epoch 180/200\n",
      "1/1 [==============================] - 0s 4ms/step - loss: 0.3451\n",
      "Epoch 181/200\n",
      "1/1 [==============================] - 0s 4ms/step - loss: 0.3366\n",
      "Epoch 182/200\n",
      "1/1 [==============================] - 0s 5ms/step - loss: 0.3282\n",
      "Epoch 183/200\n",
      "1/1 [==============================] - 0s 4ms/step - loss: 0.3200\n",
      "Epoch 184/200\n",
      "1/1 [==============================] - 0s 4ms/step - loss: 0.3121\n",
      "Epoch 185/200\n",
      "1/1 [==============================] - 0s 5ms/step - loss: 0.3043\n",
      "Epoch 186/200\n",
      "1/1 [==============================] - 0s 4ms/step - loss: 0.2968\n",
      "Epoch 187/200\n",
      "1/1 [==============================] - 0s 5ms/step - loss: 0.2896\n",
      "Epoch 188/200\n",
      "1/1 [==============================] - 0s 4ms/step - loss: 0.2826\n",
      "Epoch 189/200\n",
      "1/1 [==============================] - 0s 9ms/step - loss: 0.2759\n",
      "Epoch 190/200\n",
      "1/1 [==============================] - 0s 11ms/step - loss: 0.2694\n",
      "Epoch 191/200\n",
      "1/1 [==============================] - 0s 4ms/step - loss: 0.2631\n",
      "Epoch 192/200\n",
      "1/1 [==============================] - 0s 4ms/step - loss: 0.2570\n",
      "Epoch 193/200\n",
      "1/1 [==============================] - 0s 4ms/step - loss: 0.2510\n",
      "Epoch 194/200\n",
      "1/1 [==============================] - 0s 9ms/step - loss: 0.2452\n",
      "Epoch 195/200\n",
      "1/1 [==============================] - 0s 7ms/step - loss: 0.2396\n",
      "Epoch 196/200\n",
      "1/1 [==============================] - 0s 4ms/step - loss: 0.2341\n",
      "Epoch 197/200\n",
      "1/1 [==============================] - 0s 4ms/step - loss: 0.2288\n",
      "Epoch 198/200\n",
      "1/1 [==============================] - 0s 7ms/step - loss: 0.2237\n",
      "Epoch 199/200\n",
      "1/1 [==============================] - 0s 5ms/step - loss: 0.2187\n",
      "Epoch 200/200\n",
      "1/1 [==============================] - 0s 7ms/step - loss: 0.2138\n"
     ]
    },
    {
     "data": {
      "text/plain": [
       "<keras.callbacks.History at 0x295fa526f98>"
      ]
     },
     "execution_count": 98,
     "metadata": {},
     "output_type": "execute_result"
    }
   ],
   "source": [
    "model.fit(X,y,epochs=200)"
   ]
  },
  {
   "cell_type": "code",
   "execution_count": 99,
   "id": "e978e316",
   "metadata": {},
   "outputs": [],
   "source": [
    "#predicting next value in sequence\n",
    "x_input=np.array([70,80,90])\n",
    "x_input=x_input.reshape((1,n_steps,n_features))"
   ]
  },
  {
   "cell_type": "code",
   "execution_count": 100,
   "id": "7f0df1f3",
   "metadata": {},
   "outputs": [],
   "source": [
    "yhat=model.predict(x_input)"
   ]
  },
  {
   "cell_type": "code",
   "execution_count": 101,
   "id": "e2a91c7c",
   "metadata": {},
   "outputs": [
    {
     "data": {
      "text/plain": [
       "array([[101.527695]], dtype=float32)"
      ]
     },
     "execution_count": 101,
     "metadata": {},
     "output_type": "execute_result"
    }
   ],
   "source": [
    "yhat"
   ]
  },
  {
   "cell_type": "code",
   "execution_count": null,
   "id": "e8bfeca0",
   "metadata": {},
   "outputs": [],
   "source": []
  }
 ],
 "metadata": {
  "kernelspec": {
   "display_name": "Python 3",
   "language": "python",
   "name": "python3"
  },
  "language_info": {
   "codemirror_mode": {
    "name": "ipython",
    "version": 3
   },
   "file_extension": ".py",
   "mimetype": "text/x-python",
   "name": "python",
   "nbconvert_exporter": "python",
   "pygments_lexer": "ipython3",
   "version": "3.6.13"
  }
 },
 "nbformat": 4,
 "nbformat_minor": 5
}
