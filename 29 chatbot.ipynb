{
 "cells": [
  {
   "cell_type": "code",
   "execution_count": 1,
   "id": "968b1e6e",
   "metadata": {},
   "outputs": [],
   "source": [
    "import nltk\n",
    "from nltk.chat.util import Chat,reflections #reflections is a dictionary contain things needed for chatbot"
   ]
  },
  {
   "cell_type": "code",
   "execution_count": 2,
   "id": "97d8ee91",
   "metadata": {},
   "outputs": [
    {
     "data": {
      "text/plain": [
       "{'i am': 'you are',\n",
       " 'i was': 'you were',\n",
       " 'i': 'you',\n",
       " \"i'm\": 'you are',\n",
       " \"i'd\": 'you would',\n",
       " \"i've\": 'you have',\n",
       " \"i'll\": 'you will',\n",
       " 'my': 'your',\n",
       " 'you are': 'I am',\n",
       " 'you were': 'I was',\n",
       " \"you've\": 'I have',\n",
       " \"you'll\": 'I will',\n",
       " 'your': 'my',\n",
       " 'yours': 'mine',\n",
       " 'you': 'me',\n",
       " 'me': 'you'}"
      ]
     },
     "execution_count": 2,
     "metadata": {},
     "output_type": "execute_result"
    }
   ],
   "source": [
    "reflections #we have to feed this to chatbot"
   ]
  },
  {
   "cell_type": "code",
   "execution_count": 3,
   "id": "113e0e0c",
   "metadata": {},
   "outputs": [],
   "source": [
    "pairs=[\n",
    "    [\n",
    "        r\"my name is (.*)\",\n",
    "        [\"Hello %1, How are you today?\"]\n",
    "    ],\n",
    "    [\n",
    "        r\"hi|hey|hello\",\n",
    "        [\"Hello\",\"Hey there\"]\n",
    "    ],\n",
    "    [\n",
    "        r\"What is your name?\",\n",
    "        [\"I am a bot created by Dharna.\"]\n",
    "    ],\n",
    "    [\n",
    "        r\"how are you?\",\n",
    "        [\"I'm doing good.How about you? \"]\n",
    "    ],\n",
    "    [\n",
    "        r\"I am fine\",\n",
    "        [\"Great to hear that, How can I help you?\"]\n",
    "    ],\n",
    "    [\n",
    "        r\"I am looking for learning Python\",\n",
    "        [\"Our Company has many great instructors for Python. We can Help you in this.\"]\n",
    "    ],\n",
    "    [\n",
    "        r\"quit\",\n",
    "        [\"Bye Take care. See you soon.\"]\n",
    "    ]\n",
    "]\n"
   ]
  },
  {
   "cell_type": "code",
   "execution_count": 4,
   "id": "0cd0b245",
   "metadata": {},
   "outputs": [],
   "source": [
    "def chat():\n",
    "    print(\"Hi, i am a chatbot created by abhijith for your service\")\n",
    "    chat=Chat(pairs,reflections)\n",
    "    chat.converse()"
   ]
  },
  {
   "cell_type": "code",
   "execution_count": 5,
   "id": "cf54cf2f",
   "metadata": {},
   "outputs": [
    {
     "name": "stdout",
     "output_type": "stream",
     "text": [
      "Hi, i am a chatbot created by abhijith for your service\n",
      ">het\n",
      "None\n",
      ">hey\n",
      "Hello\n",
      ">my name is abhijith\n",
      "Hello abhijith, How are you today?\n",
      ">quit\n",
      "Bye Take care. See you soon.\n"
     ]
    }
   ],
   "source": [
    "chat()"
   ]
  },
  {
   "cell_type": "code",
   "execution_count": 6,
   "id": "b5c6d100",
   "metadata": {},
   "outputs": [],
   "source": [
    "from tkinter import *\n",
    "import tkinter as tk\n",
    "from tkinter import messagebox\n",
    "window=Tk()\n",
    "window.title(\"Abhi's chatbot\")    #for tkinter model\n",
    "window.config(bg=\"light blue\")"
   ]
  },
  {
   "cell_type": "code",
   "execution_count": 7,
   "id": "82a8f387",
   "metadata": {},
   "outputs": [],
   "source": [
    "l1=tk.Label(window,text=\"Enter something\",font=(\"times new roman\",18),bg=\"green\",fg=\"white\")\n",
    "l1.place(x=10,y=200)\n",
    "e1=tk.Entry(window,textvariable=pairs,width=17,bd=5,font=(\"arial\",20))\n",
    "e1.place(x=200,y=200)\n",
    "button1=tk.Button(window,text=\"explore\",command=chat)\n",
    "button1.place(x=250,y=600)\n",
    "if(button1==True):\n",
    "    messagebox.showinfo(\"RESULT\",chat)"
   ]
  },
  {
   "cell_type": "code",
   "execution_count": null,
   "id": "105c31be",
   "metadata": {},
   "outputs": [
    {
     "name": "stdout",
     "output_type": "stream",
     "text": [
      "Hi, i am a chatbot created by abhijith for your service\n"
     ]
    }
   ],
   "source": [
    "window.geometry(\"1000x700\")\n",
    "window.mainloop()"
   ]
  },
  {
   "cell_type": "code",
   "execution_count": null,
   "id": "924794db",
   "metadata": {},
   "outputs": [],
   "source": []
  }
 ],
 "metadata": {
  "kernelspec": {
   "display_name": "Python 3",
   "language": "python",
   "name": "python3"
  },
  "language_info": {
   "codemirror_mode": {
    "name": "ipython",
    "version": 3
   },
   "file_extension": ".py",
   "mimetype": "text/x-python",
   "name": "python",
   "nbconvert_exporter": "python",
   "pygments_lexer": "ipython3",
   "version": "3.6.13"
  }
 },
 "nbformat": 4,
 "nbformat_minor": 5
}
