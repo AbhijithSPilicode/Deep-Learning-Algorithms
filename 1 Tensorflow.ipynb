{
 "cells": [
  {
   "cell_type": "code",
   "execution_count": 1,
   "id": "b84f5252",
   "metadata": {},
   "outputs": [],
   "source": [
    "import tensorflow as tf"
   ]
  },
  {
   "cell_type": "code",
   "execution_count": 2,
   "id": "edb3dfb8",
   "metadata": {},
   "outputs": [],
   "source": [
    "r=tf.constant([1,2,3])"
   ]
  },
  {
   "cell_type": "code",
   "execution_count": 3,
   "id": "50878319",
   "metadata": {},
   "outputs": [
    {
     "name": "stdout",
     "output_type": "stream",
     "text": [
      "[1 2 3]\r\n"
     ]
    }
   ],
   "source": [
    "tf.print(r)"
   ]
  },
  {
   "cell_type": "code",
   "execution_count": 4,
   "id": "a855bc1f",
   "metadata": {},
   "outputs": [
    {
     "name": "stdout",
     "output_type": "stream",
     "text": [
      "[[1 2 3]\n",
      " [4 5 6]]\r\n"
     ]
    }
   ],
   "source": [
    "r2=tf.constant([[1,2,3],[4,5,6]],tf.float32)\n",
    "tf.print(r2)"
   ]
  },
  {
   "cell_type": "code",
   "execution_count": 5,
   "id": "8ed044a5",
   "metadata": {},
   "outputs": [
    {
     "name": "stdout",
     "output_type": "stream",
     "text": [
      "tf.Tensor(b'abcd', shape=(), dtype=string)\n"
     ]
    }
   ],
   "source": [
    "r3=tf.constant(\"abcd\",tf.string)\n",
    "print(r3)"
   ]
  },
  {
   "cell_type": "code",
   "execution_count": 6,
   "id": "48985a09",
   "metadata": {},
   "outputs": [
    {
     "name": "stdout",
     "output_type": "stream",
     "text": [
      "tf.Tensor([ True False  True], shape=(3,), dtype=bool)\n"
     ]
    }
   ],
   "source": [
    "r2_boolean=tf.constant([True,False,True],tf.bool)\n",
    "print(r2_boolean)"
   ]
  },
  {
   "cell_type": "code",
   "execution_count": 7,
   "id": "5436a598",
   "metadata": {
    "scrolled": true
   },
   "outputs": [
    {
     "data": {
      "text/plain": [
       "<tf.Tensor: shape=(5, 6), dtype=float32, numpy=\n",
       "array([[0., 0., 0., 0., 0., 0.],\n",
       "       [0., 0., 0., 0., 0., 0.],\n",
       "       [0., 0., 0., 0., 0., 0.],\n",
       "       [0., 0., 0., 0., 0., 0.],\n",
       "       [0., 0., 0., 0., 0., 0.]], dtype=float32)>"
      ]
     },
     "execution_count": 7,
     "metadata": {},
     "output_type": "execute_result"
    }
   ],
   "source": [
    "z=tf.zeros((5,6))\n",
    "z"
   ]
  },
  {
   "cell_type": "code",
   "execution_count": 8,
   "id": "7465c99c",
   "metadata": {},
   "outputs": [
    {
     "data": {
      "text/plain": [
       "<tf.Tensor: shape=(4, 5), dtype=float32, numpy=\n",
       "array([[1., 1., 1., 1., 1.],\n",
       "       [1., 1., 1., 1., 1.],\n",
       "       [1., 1., 1., 1., 1.],\n",
       "       [1., 1., 1., 1., 1.]], dtype=float32)>"
      ]
     },
     "execution_count": 8,
     "metadata": {},
     "output_type": "execute_result"
    }
   ],
   "source": [
    "g=tf.ones((4,5))\n",
    "g"
   ]
  },
  {
   "cell_type": "code",
   "execution_count": 9,
   "id": "7524f48c",
   "metadata": {},
   "outputs": [
    {
     "name": "stdout",
     "output_type": "stream",
     "text": [
      "3\r\n"
     ]
    }
   ],
   "source": [
    "val=tf.constant(3.123455,tf.float32)\n",
    "val2=tf.cast(val,dtype=tf.int32)\n",
    "tf.print(val2)"
   ]
  },
  {
   "cell_type": "code",
   "execution_count": 10,
   "id": "16328fba",
   "metadata": {},
   "outputs": [],
   "source": [
    "v=10 #rank 0\n",
    "v=[1,2,3] #rank 1\n",
    "v=[[5,6],[7,8]] #rank 2"
   ]
  },
  {
   "cell_type": "code",
   "execution_count": 11,
   "id": "f261e960",
   "metadata": {},
   "outputs": [],
   "source": [
    "import tensorflow.compat.v1 as tf"
   ]
  },
  {
   "cell_type": "code",
   "execution_count": 12,
   "id": "5f2cff27",
   "metadata": {},
   "outputs": [
    {
     "name": "stdout",
     "output_type": "stream",
     "text": [
      "WARNING:tensorflow:From C:\\Users\\user\\anaconda3\\envs\\pythomopencv\\lib\\site-packages\\tensorflow\\python\\compat\\v2_compat.py:101: disable_resource_variables (from tensorflow.python.ops.variable_scope) is deprecated and will be removed in a future version.\n",
      "Instructions for updating:\n",
      "non-resource variables are not supported in the long term\n"
     ]
    }
   ],
   "source": [
    "tf.disable_v2_behavior()"
   ]
  },
  {
   "cell_type": "code",
   "execution_count": 13,
   "id": "4d5ee71c",
   "metadata": {},
   "outputs": [],
   "source": [
    "a=tf.placeholder(tf.float32) #assign value of tensor later"
   ]
  },
  {
   "cell_type": "code",
   "execution_count": 14,
   "id": "213a31ef",
   "metadata": {},
   "outputs": [],
   "source": [
    "b=tf.cast(a*2,tf.float32)"
   ]
  },
  {
   "cell_type": "code",
   "execution_count": 15,
   "id": "94649a53",
   "metadata": {},
   "outputs": [],
   "source": [
    "with tf.Session() as sess: #session used to store value for a lonf period of time\n",
    "    result=sess.run(b,feed_dict={a:3.0})"
   ]
  },
  {
   "cell_type": "code",
   "execution_count": 16,
   "id": "0e1ed83b",
   "metadata": {},
   "outputs": [
    {
     "data": {
      "text/plain": [
       "6.0"
      ]
     },
     "execution_count": 16,
     "metadata": {},
     "output_type": "execute_result"
    }
   ],
   "source": [
    "result"
   ]
  },
  {
   "cell_type": "code",
   "execution_count": 29,
   "id": "83ce85e3",
   "metadata": {},
   "outputs": [],
   "source": [
    "#functions and Session"
   ]
  },
  {
   "cell_type": "code",
   "execution_count": 27,
   "id": "4e010930",
   "metadata": {},
   "outputs": [
    {
     "name": "stdout",
     "output_type": "stream",
     "text": [
      "8.0\n"
     ]
    }
   ],
   "source": [
    "n=tf.constant(64,dtype=tf.float32)\n",
    "m=tf.sqrt(n)\n",
    "with tf.Session() as sess:\n",
    "    result=sess.run(m)\n",
    "    print(result) #it will square root of 64"
   ]
  },
  {
   "cell_type": "code",
   "execution_count": 38,
   "id": "113fca98",
   "metadata": {},
   "outputs": [
    {
     "name": "stdout",
     "output_type": "stream",
     "text": [
      "7\n"
     ]
    }
   ],
   "source": [
    "a=tf.constant(3,dtype=tf.int32)\n",
    "b=tf.constant(4,dtype=tf.int32)\n",
    "c=tf.add(a,b)\n",
    "with tf.Session() as sess:\n",
    "    result=sess.run(c)\n",
    "    print(result) #it will add 3 and 4"
   ]
  },
  {
   "cell_type": "code",
   "execution_count": 30,
   "id": "53a8f9ae",
   "metadata": {},
   "outputs": [],
   "source": [
    "#f(x,z)=xz+x^2+z+5"
   ]
  },
  {
   "cell_type": "code",
   "execution_count": 35,
   "id": "ed0c7b9b",
   "metadata": {},
   "outputs": [
    {
     "data": {
      "text/plain": [
       "<tf.Tensor 'add_11:0' shape=(1,) dtype=int32>"
      ]
     },
     "execution_count": 35,
     "metadata": {},
     "output_type": "execute_result"
    }
   ],
   "source": [
    "x=tf.constant([7],dtype=tf.int32)\n",
    "z=tf.constant([6],dtype=tf.int32)\n",
    "const=tf.constant([5],dtype=tf.int32)\n",
    "f=tf.multiply(x,z)+tf.pow(x,2)+z+c\n",
    "f"
   ]
  },
  {
   "cell_type": "code",
   "execution_count": 36,
   "id": "9e2cacef",
   "metadata": {},
   "outputs": [
    {
     "name": "stdout",
     "output_type": "stream",
     "text": [
      "[104]\n"
     ]
    }
   ],
   "source": [
    "with tf.Session() as sess:\n",
    "    result=sess.run(f)\n",
    "    print(result)"
   ]
  },
  {
   "cell_type": "code",
   "execution_count": null,
   "id": "6302ba8b",
   "metadata": {},
   "outputs": [],
   "source": []
  }
 ],
 "metadata": {
  "kernelspec": {
   "display_name": "Python 3",
   "language": "python",
   "name": "python3"
  },
  "language_info": {
   "codemirror_mode": {
    "name": "ipython",
    "version": 3
   },
   "file_extension": ".py",
   "mimetype": "text/x-python",
   "name": "python",
   "nbconvert_exporter": "python",
   "pygments_lexer": "ipython3",
   "version": "3.6.13"
  }
 },
 "nbformat": 4,
 "nbformat_minor": 5
}
