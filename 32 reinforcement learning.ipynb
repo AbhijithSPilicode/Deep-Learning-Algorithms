{
 "cells": [
  {
   "cell_type": "code",
   "execution_count": 15,
   "id": "33043e38",
   "metadata": {},
   "outputs": [],
   "source": [
    "import numpy as np"
   ]
  },
  {
   "cell_type": "code",
   "execution_count": 16,
   "id": "28f0052a",
   "metadata": {},
   "outputs": [],
   "source": [
    "rewards=np.array([\n",
    "    [-1,-1,-1,-1,0,-1],\n",
    "    [-1,-1,-1,0,-1,100],\n",
    "    [-1,-1,-1,0,-1,-1],\n",
    "    \n",
    "    [-1,0,0,-1,0,-1],\n",
    "    [0,-1,-1,0,-1,-1],\n",
    "    [-1,0,-1,-1,-1,-1]\n",
    "])\n"
   ]
  },
  {
   "cell_type": "code",
   "execution_count": 17,
   "id": "0549dfbc",
   "metadata": {},
   "outputs": [
    {
     "data": {
      "text/html": [
       "<div>\n",
       "<style scoped>\n",
       "    .dataframe tbody tr th:only-of-type {\n",
       "        vertical-align: middle;\n",
       "    }\n",
       "\n",
       "    .dataframe tbody tr th {\n",
       "        vertical-align: top;\n",
       "    }\n",
       "\n",
       "    .dataframe thead th {\n",
       "        text-align: right;\n",
       "    }\n",
       "</style>\n",
       "<table border=\"1\" class=\"dataframe\">\n",
       "  <thead>\n",
       "    <tr style=\"text-align: right;\">\n",
       "      <th></th>\n",
       "      <th>0</th>\n",
       "      <th>1</th>\n",
       "      <th>2</th>\n",
       "      <th>3</th>\n",
       "      <th>4</th>\n",
       "      <th>5</th>\n",
       "    </tr>\n",
       "  </thead>\n",
       "  <tbody>\n",
       "    <tr>\n",
       "      <th>0</th>\n",
       "      <td>-1</td>\n",
       "      <td>-1</td>\n",
       "      <td>-1</td>\n",
       "      <td>-1</td>\n",
       "      <td>0</td>\n",
       "      <td>-1</td>\n",
       "    </tr>\n",
       "    <tr>\n",
       "      <th>1</th>\n",
       "      <td>-1</td>\n",
       "      <td>-1</td>\n",
       "      <td>-1</td>\n",
       "      <td>0</td>\n",
       "      <td>-1</td>\n",
       "      <td>100</td>\n",
       "    </tr>\n",
       "    <tr>\n",
       "      <th>2</th>\n",
       "      <td>-1</td>\n",
       "      <td>-1</td>\n",
       "      <td>-1</td>\n",
       "      <td>0</td>\n",
       "      <td>-1</td>\n",
       "      <td>-1</td>\n",
       "    </tr>\n",
       "    <tr>\n",
       "      <th>3</th>\n",
       "      <td>-1</td>\n",
       "      <td>0</td>\n",
       "      <td>0</td>\n",
       "      <td>-1</td>\n",
       "      <td>0</td>\n",
       "      <td>-1</td>\n",
       "    </tr>\n",
       "    <tr>\n",
       "      <th>4</th>\n",
       "      <td>0</td>\n",
       "      <td>-1</td>\n",
       "      <td>-1</td>\n",
       "      <td>0</td>\n",
       "      <td>-1</td>\n",
       "      <td>-1</td>\n",
       "    </tr>\n",
       "    <tr>\n",
       "      <th>5</th>\n",
       "      <td>-1</td>\n",
       "      <td>0</td>\n",
       "      <td>-1</td>\n",
       "      <td>-1</td>\n",
       "      <td>-1</td>\n",
       "      <td>-1</td>\n",
       "    </tr>\n",
       "  </tbody>\n",
       "</table>\n",
       "</div>"
      ],
      "text/plain": [
       "   0  1  2  3  4    5\n",
       "0 -1 -1 -1 -1  0   -1\n",
       "1 -1 -1 -1  0 -1  100\n",
       "2 -1 -1 -1  0 -1   -1\n",
       "3 -1  0  0 -1  0   -1\n",
       "4  0 -1 -1  0 -1   -1\n",
       "5 -1  0 -1 -1 -1   -1"
      ]
     },
     "execution_count": 17,
     "metadata": {},
     "output_type": "execute_result"
    }
   ],
   "source": [
    "import pandas as pd\n",
    "pd.DataFrame(rewards)"
   ]
  },
  {
   "cell_type": "code",
   "execution_count": 18,
   "id": "eaa1a96f",
   "metadata": {},
   "outputs": [],
   "source": [
    "def initialize_q(m,n):\n",
    "    return np.zeros((m,n))"
   ]
  },
  {
   "cell_type": "code",
   "execution_count": 19,
   "id": "0d233887",
   "metadata": {},
   "outputs": [],
   "source": [
    "q_matrix=initialize_q(6,6)"
   ]
  },
  {
   "cell_type": "code",
   "execution_count": 20,
   "id": "78bf0cb4",
   "metadata": {},
   "outputs": [
    {
     "data": {
      "text/html": [
       "<div>\n",
       "<style scoped>\n",
       "    .dataframe tbody tr th:only-of-type {\n",
       "        vertical-align: middle;\n",
       "    }\n",
       "\n",
       "    .dataframe tbody tr th {\n",
       "        vertical-align: top;\n",
       "    }\n",
       "\n",
       "    .dataframe thead th {\n",
       "        text-align: right;\n",
       "    }\n",
       "</style>\n",
       "<table border=\"1\" class=\"dataframe\">\n",
       "  <thead>\n",
       "    <tr style=\"text-align: right;\">\n",
       "      <th></th>\n",
       "      <th>0</th>\n",
       "      <th>1</th>\n",
       "      <th>2</th>\n",
       "      <th>3</th>\n",
       "      <th>4</th>\n",
       "      <th>5</th>\n",
       "    </tr>\n",
       "  </thead>\n",
       "  <tbody>\n",
       "    <tr>\n",
       "      <th>0</th>\n",
       "      <td>0.0</td>\n",
       "      <td>0.0</td>\n",
       "      <td>0.0</td>\n",
       "      <td>0.0</td>\n",
       "      <td>0.0</td>\n",
       "      <td>0.0</td>\n",
       "    </tr>\n",
       "    <tr>\n",
       "      <th>1</th>\n",
       "      <td>0.0</td>\n",
       "      <td>0.0</td>\n",
       "      <td>0.0</td>\n",
       "      <td>0.0</td>\n",
       "      <td>0.0</td>\n",
       "      <td>0.0</td>\n",
       "    </tr>\n",
       "    <tr>\n",
       "      <th>2</th>\n",
       "      <td>0.0</td>\n",
       "      <td>0.0</td>\n",
       "      <td>0.0</td>\n",
       "      <td>0.0</td>\n",
       "      <td>0.0</td>\n",
       "      <td>0.0</td>\n",
       "    </tr>\n",
       "    <tr>\n",
       "      <th>3</th>\n",
       "      <td>0.0</td>\n",
       "      <td>0.0</td>\n",
       "      <td>0.0</td>\n",
       "      <td>0.0</td>\n",
       "      <td>0.0</td>\n",
       "      <td>0.0</td>\n",
       "    </tr>\n",
       "    <tr>\n",
       "      <th>4</th>\n",
       "      <td>0.0</td>\n",
       "      <td>0.0</td>\n",
       "      <td>0.0</td>\n",
       "      <td>0.0</td>\n",
       "      <td>0.0</td>\n",
       "      <td>0.0</td>\n",
       "    </tr>\n",
       "    <tr>\n",
       "      <th>5</th>\n",
       "      <td>0.0</td>\n",
       "      <td>0.0</td>\n",
       "      <td>0.0</td>\n",
       "      <td>0.0</td>\n",
       "      <td>0.0</td>\n",
       "      <td>0.0</td>\n",
       "    </tr>\n",
       "  </tbody>\n",
       "</table>\n",
       "</div>"
      ],
      "text/plain": [
       "     0    1    2    3    4    5\n",
       "0  0.0  0.0  0.0  0.0  0.0  0.0\n",
       "1  0.0  0.0  0.0  0.0  0.0  0.0\n",
       "2  0.0  0.0  0.0  0.0  0.0  0.0\n",
       "3  0.0  0.0  0.0  0.0  0.0  0.0\n",
       "4  0.0  0.0  0.0  0.0  0.0  0.0\n",
       "5  0.0  0.0  0.0  0.0  0.0  0.0"
      ]
     },
     "execution_count": 20,
     "metadata": {},
     "output_type": "execute_result"
    }
   ],
   "source": [
    "pd.DataFrame(q_matrix)"
   ]
  },
  {
   "cell_type": "code",
   "execution_count": 21,
   "id": "daaeab6d",
   "metadata": {},
   "outputs": [],
   "source": [
    "import random"
   ]
  },
  {
   "cell_type": "code",
   "execution_count": 22,
   "id": "da9ce24f",
   "metadata": {},
   "outputs": [],
   "source": [
    "def set_initial_state(rooms=6):\n",
    "    return np.random.randint(0,rooms)"
   ]
  },
  {
   "cell_type": "code",
   "execution_count": 23,
   "id": "869cd79e",
   "metadata": {},
   "outputs": [],
   "source": [
    "def get_action(current_state,reward_matrix):\n",
    "    valid_actions=[]\n",
    "    for action in enumerate(reward_matrix[current_state]):\n",
    "        if action[1]!=-1:\n",
    "            valid_actions+=[action[0]]\n",
    "    return random.choice(valid_actions)        "
   ]
  },
  {
   "cell_type": "code",
   "execution_count": 24,
   "id": "158da552",
   "metadata": {},
   "outputs": [],
   "source": [
    "#Q(State,action)=R(state,action)+Gamma*Max[Q(nextState,allActions_(nextstate))]\n",
    "#take action based on previous state\n",
    "def take_action(current_state,reward_matrix,gamma,verbose=False):\n",
    "    action=get_action(current_state,reward_matrix)\n",
    "    sa_reward=reward_matrix[current_state,action] #current state action reward\n",
    "    ns_reward=max(q_matrix[action,]) #next state reward\n",
    "    q_current_state=sa_reward+(gamma*ns_reward)\n",
    "    q_matrix[current_state,action]=q_current_state\n",
    "    new_state=action\n",
    "    if verbose:\n",
    "        print(q_matrix)\n",
    "        print(f\"Old State{current_state} | New State:{new_state}\\n\\n\")\n",
    "        if new_state==5:\n",
    "              print(\"Agent has reached its goal\")\n",
    "    return new_state          "
   ]
  },
  {
   "cell_type": "code",
   "execution_count": 25,
   "id": "e621a4ef",
   "metadata": {},
   "outputs": [],
   "source": [
    "def initialize_episode(reward_matrix,initial_state,gamma,verbose=False):\n",
    "    current_state=initial_state\n",
    "    while True:\n",
    "        current_state=take_action(current_state,reward_matrix,gamma,verbose)\n",
    "        if current_state==5:\n",
    "            break"
   ]
  },
  {
   "cell_type": "code",
   "execution_count": 26,
   "id": "1d16aec8",
   "metadata": {},
   "outputs": [],
   "source": [
    "def train_agent(iterations,reward_matrix,gamma,verbose=False):\n",
    "    for episode in range(iterations):\n",
    "        initial_state=set_initial_state()\n",
    "        initialize_episode(reward_matrix,initial_state,gamma,verbose)\n",
    "    return q_matrix"
   ]
  },
  {
   "cell_type": "code",
   "execution_count": 27,
   "id": "b3fee201",
   "metadata": {},
   "outputs": [],
   "source": [
    "def normalize_matrix(q_matrix):\n",
    "    normalized_q=q_matrix/max(q_matrix[q_matrix.nonzero()])*100\n",
    "    return normalized_q.astype(int)"
   ]
  },
  {
   "cell_type": "code",
   "execution_count": 28,
   "id": "b2181207",
   "metadata": {},
   "outputs": [
    {
     "name": "stdout",
     "output_type": "stream",
     "text": [
      "[[0. 0. 0. 0. 0. 0.]\n",
      " [0. 0. 0. 0. 0. 0.]\n",
      " [0. 0. 0. 0. 0. 0.]\n",
      " [0. 0. 0. 0. 0. 0.]\n",
      " [0. 0. 0. 0. 0. 0.]\n",
      " [0. 0. 0. 0. 0. 0.]]\n",
      "Old State2 | New State:3\n",
      "\n",
      "\n",
      "[[0. 0. 0. 0. 0. 0.]\n",
      " [0. 0. 0. 0. 0. 0.]\n",
      " [0. 0. 0. 0. 0. 0.]\n",
      " [0. 0. 0. 0. 0. 0.]\n",
      " [0. 0. 0. 0. 0. 0.]\n",
      " [0. 0. 0. 0. 0. 0.]]\n",
      "Old State3 | New State:1\n",
      "\n",
      "\n",
      "[[  0.   0.   0.   0.   0.   0.]\n",
      " [  0.   0.   0.   0.   0. 100.]\n",
      " [  0.   0.   0.   0.   0.   0.]\n",
      " [  0.   0.   0.   0.   0.   0.]\n",
      " [  0.   0.   0.   0.   0.   0.]\n",
      " [  0.   0.   0.   0.   0.   0.]]\n",
      "Old State1 | New State:5\n",
      "\n",
      "\n",
      "Agent has reached its goal\n"
     ]
    }
   ],
   "source": [
    "gamma=0.1\n",
    "initial_state=set_initial_state()\n",
    "initial_action=get_action(initial_state,rewards)\n",
    "initialize_episode(rewards,initial_state,gamma,True)"
   ]
  },
  {
   "cell_type": "code",
   "execution_count": 29,
   "id": "5ebce381",
   "metadata": {},
   "outputs": [],
   "source": [
    "gamma=0.1\n",
    "initial_state=set_initial_state()\n",
    "initial_action=get_action(initial_state,rewards)\n",
    "q_table=train_agent(2000,rewards,gamma,False)"
   ]
  },
  {
   "cell_type": "code",
   "execution_count": 31,
   "id": "45291e22",
   "metadata": {},
   "outputs": [
    {
     "data": {
      "text/html": [
       "<div>\n",
       "<style scoped>\n",
       "    .dataframe tbody tr th:only-of-type {\n",
       "        vertical-align: middle;\n",
       "    }\n",
       "\n",
       "    .dataframe tbody tr th {\n",
       "        vertical-align: top;\n",
       "    }\n",
       "\n",
       "    .dataframe thead th {\n",
       "        text-align: right;\n",
       "    }\n",
       "</style>\n",
       "<table border=\"1\" class=\"dataframe\">\n",
       "  <thead>\n",
       "    <tr style=\"text-align: right;\">\n",
       "      <th></th>\n",
       "      <th>0</th>\n",
       "      <th>1</th>\n",
       "      <th>2</th>\n",
       "      <th>3</th>\n",
       "      <th>4</th>\n",
       "      <th>5</th>\n",
       "    </tr>\n",
       "  </thead>\n",
       "  <tbody>\n",
       "    <tr>\n",
       "      <th>0</th>\n",
       "      <td>0</td>\n",
       "      <td>0</td>\n",
       "      <td>0</td>\n",
       "      <td>0</td>\n",
       "      <td>0</td>\n",
       "      <td>0</td>\n",
       "    </tr>\n",
       "    <tr>\n",
       "      <th>1</th>\n",
       "      <td>0</td>\n",
       "      <td>0</td>\n",
       "      <td>0</td>\n",
       "      <td>1</td>\n",
       "      <td>0</td>\n",
       "      <td>100</td>\n",
       "    </tr>\n",
       "    <tr>\n",
       "      <th>2</th>\n",
       "      <td>0</td>\n",
       "      <td>0</td>\n",
       "      <td>0</td>\n",
       "      <td>1</td>\n",
       "      <td>0</td>\n",
       "      <td>0</td>\n",
       "    </tr>\n",
       "    <tr>\n",
       "      <th>3</th>\n",
       "      <td>0</td>\n",
       "      <td>10</td>\n",
       "      <td>0</td>\n",
       "      <td>0</td>\n",
       "      <td>0</td>\n",
       "      <td>0</td>\n",
       "    </tr>\n",
       "    <tr>\n",
       "      <th>4</th>\n",
       "      <td>0</td>\n",
       "      <td>0</td>\n",
       "      <td>0</td>\n",
       "      <td>1</td>\n",
       "      <td>0</td>\n",
       "      <td>0</td>\n",
       "    </tr>\n",
       "    <tr>\n",
       "      <th>5</th>\n",
       "      <td>0</td>\n",
       "      <td>10</td>\n",
       "      <td>0</td>\n",
       "      <td>0</td>\n",
       "      <td>0</td>\n",
       "      <td>0</td>\n",
       "    </tr>\n",
       "  </tbody>\n",
       "</table>\n",
       "</div>"
      ],
      "text/plain": [
       "   0   1  2  3  4    5\n",
       "0  0   0  0  0  0    0\n",
       "1  0   0  0  1  0  100\n",
       "2  0   0  0  1  0    0\n",
       "3  0  10  0  0  0    0\n",
       "4  0   0  0  1  0    0\n",
       "5  0  10  0  0  0    0"
      ]
     },
     "execution_count": 31,
     "metadata": {},
     "output_type": "execute_result"
    }
   ],
   "source": [
    "pd.DataFrame(normalize_matrix(q_table))"
   ]
  },
  {
   "cell_type": "code",
   "execution_count": 32,
   "id": "e2f684f3",
   "metadata": {},
   "outputs": [],
   "source": [
    "def deploy_agent(init_state,q_table):\n",
    "    print(\"Start:\",init_state)\n",
    "    state=init_state\n",
    "    steps=0\n",
    "    while True:\n",
    "        steps+=1\n",
    "        action=np.argmax(q_table[state,:])\n",
    "        print(action)\n",
    "        state=action\n",
    "        if action==5:\n",
    "            print(\"Finished\")\n",
    "            return steps"
   ]
  },
  {
   "cell_type": "code",
   "execution_count": 33,
   "id": "23d00b08",
   "metadata": {},
   "outputs": [
    {
     "name": "stdout",
     "output_type": "stream",
     "text": [
      "Start: 1\n",
      "5\n",
      "Finished\n",
      "Number of rooms/actions 1\n"
     ]
    }
   ],
   "source": [
    "start_room=1\n",
    "steps=deploy_agent(start_room,q_table)\n",
    "print(\"Number of rooms/actions\",steps)"
   ]
  },
  {
   "cell_type": "code",
   "execution_count": null,
   "id": "4810dd2b",
   "metadata": {},
   "outputs": [],
   "source": []
  }
 ],
 "metadata": {
  "kernelspec": {
   "display_name": "Python 3",
   "language": "python",
   "name": "python3"
  },
  "language_info": {
   "codemirror_mode": {
    "name": "ipython",
    "version": 3
   },
   "file_extension": ".py",
   "mimetype": "text/x-python",
   "name": "python",
   "nbconvert_exporter": "python",
   "pygments_lexer": "ipython3",
   "version": "3.6.13"
  }
 },
 "nbformat": 4,
 "nbformat_minor": 5
}
