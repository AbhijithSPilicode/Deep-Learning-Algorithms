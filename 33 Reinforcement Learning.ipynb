{
 "cells": [
  {
   "cell_type": "code",
   "execution_count": 1,
   "id": "e8af72e7",
   "metadata": {},
   "outputs": [],
   "source": [
    "#in reinforcement learning the agent is bound to learn by its own experience"
   ]
  },
  {
   "cell_type": "code",
   "execution_count": 2,
   "id": "cfb152eb",
   "metadata": {},
   "outputs": [],
   "source": [
    "#no need to preprogam agent #Bellman Equation is most important in RL used in Q -learning"
   ]
  },
  {
   "cell_type": "code",
   "execution_count": 3,
   "id": "7da3279c",
   "metadata": {},
   "outputs": [],
   "source": [
    "#if the agent reaches the endpoint,the agent is rewarded"
   ]
  },
  {
   "cell_type": "code",
   "execution_count": 4,
   "id": "c563330b",
   "metadata": {},
   "outputs": [],
   "source": [
    "#Robots in a warehouse"
   ]
  },
  {
   "cell_type": "code",
   "execution_count": 6,
   "id": "f801ceef",
   "metadata": {},
   "outputs": [],
   "source": [
    "#Define enviornment-state,action,reward\n",
    "#shape enviornment(states)\n",
    "enviornment_rows=11\n",
    "enviornment_columns=11"
   ]
  },
  {
   "cell_type": "code",
   "execution_count": 9,
   "id": "553ec900",
   "metadata": {},
   "outputs": [],
   "source": [
    "#Q(s,a)=0 #a-action is up,left,right,down\n",
    "import numpy as np\n",
    "q_values=np.zeros((enviornment_rows,enviornment_columns,4)) #4 for 4 states-up,left,right,down"
   ]
  },
  {
   "cell_type": "code",
   "execution_count": 10,
   "id": "b7f7beb8",
   "metadata": {},
   "outputs": [
    {
     "data": {
      "text/plain": [
       "array([[[0., 0., 0., 0.],\n",
       "        [0., 0., 0., 0.],\n",
       "        [0., 0., 0., 0.],\n",
       "        [0., 0., 0., 0.],\n",
       "        [0., 0., 0., 0.],\n",
       "        [0., 0., 0., 0.],\n",
       "        [0., 0., 0., 0.],\n",
       "        [0., 0., 0., 0.],\n",
       "        [0., 0., 0., 0.],\n",
       "        [0., 0., 0., 0.],\n",
       "        [0., 0., 0., 0.]],\n",
       "\n",
       "       [[0., 0., 0., 0.],\n",
       "        [0., 0., 0., 0.],\n",
       "        [0., 0., 0., 0.],\n",
       "        [0., 0., 0., 0.],\n",
       "        [0., 0., 0., 0.],\n",
       "        [0., 0., 0., 0.],\n",
       "        [0., 0., 0., 0.],\n",
       "        [0., 0., 0., 0.],\n",
       "        [0., 0., 0., 0.],\n",
       "        [0., 0., 0., 0.],\n",
       "        [0., 0., 0., 0.]],\n",
       "\n",
       "       [[0., 0., 0., 0.],\n",
       "        [0., 0., 0., 0.],\n",
       "        [0., 0., 0., 0.],\n",
       "        [0., 0., 0., 0.],\n",
       "        [0., 0., 0., 0.],\n",
       "        [0., 0., 0., 0.],\n",
       "        [0., 0., 0., 0.],\n",
       "        [0., 0., 0., 0.],\n",
       "        [0., 0., 0., 0.],\n",
       "        [0., 0., 0., 0.],\n",
       "        [0., 0., 0., 0.]],\n",
       "\n",
       "       [[0., 0., 0., 0.],\n",
       "        [0., 0., 0., 0.],\n",
       "        [0., 0., 0., 0.],\n",
       "        [0., 0., 0., 0.],\n",
       "        [0., 0., 0., 0.],\n",
       "        [0., 0., 0., 0.],\n",
       "        [0., 0., 0., 0.],\n",
       "        [0., 0., 0., 0.],\n",
       "        [0., 0., 0., 0.],\n",
       "        [0., 0., 0., 0.],\n",
       "        [0., 0., 0., 0.]],\n",
       "\n",
       "       [[0., 0., 0., 0.],\n",
       "        [0., 0., 0., 0.],\n",
       "        [0., 0., 0., 0.],\n",
       "        [0., 0., 0., 0.],\n",
       "        [0., 0., 0., 0.],\n",
       "        [0., 0., 0., 0.],\n",
       "        [0., 0., 0., 0.],\n",
       "        [0., 0., 0., 0.],\n",
       "        [0., 0., 0., 0.],\n",
       "        [0., 0., 0., 0.],\n",
       "        [0., 0., 0., 0.]],\n",
       "\n",
       "       [[0., 0., 0., 0.],\n",
       "        [0., 0., 0., 0.],\n",
       "        [0., 0., 0., 0.],\n",
       "        [0., 0., 0., 0.],\n",
       "        [0., 0., 0., 0.],\n",
       "        [0., 0., 0., 0.],\n",
       "        [0., 0., 0., 0.],\n",
       "        [0., 0., 0., 0.],\n",
       "        [0., 0., 0., 0.],\n",
       "        [0., 0., 0., 0.],\n",
       "        [0., 0., 0., 0.]],\n",
       "\n",
       "       [[0., 0., 0., 0.],\n",
       "        [0., 0., 0., 0.],\n",
       "        [0., 0., 0., 0.],\n",
       "        [0., 0., 0., 0.],\n",
       "        [0., 0., 0., 0.],\n",
       "        [0., 0., 0., 0.],\n",
       "        [0., 0., 0., 0.],\n",
       "        [0., 0., 0., 0.],\n",
       "        [0., 0., 0., 0.],\n",
       "        [0., 0., 0., 0.],\n",
       "        [0., 0., 0., 0.]],\n",
       "\n",
       "       [[0., 0., 0., 0.],\n",
       "        [0., 0., 0., 0.],\n",
       "        [0., 0., 0., 0.],\n",
       "        [0., 0., 0., 0.],\n",
       "        [0., 0., 0., 0.],\n",
       "        [0., 0., 0., 0.],\n",
       "        [0., 0., 0., 0.],\n",
       "        [0., 0., 0., 0.],\n",
       "        [0., 0., 0., 0.],\n",
       "        [0., 0., 0., 0.],\n",
       "        [0., 0., 0., 0.]],\n",
       "\n",
       "       [[0., 0., 0., 0.],\n",
       "        [0., 0., 0., 0.],\n",
       "        [0., 0., 0., 0.],\n",
       "        [0., 0., 0., 0.],\n",
       "        [0., 0., 0., 0.],\n",
       "        [0., 0., 0., 0.],\n",
       "        [0., 0., 0., 0.],\n",
       "        [0., 0., 0., 0.],\n",
       "        [0., 0., 0., 0.],\n",
       "        [0., 0., 0., 0.],\n",
       "        [0., 0., 0., 0.]],\n",
       "\n",
       "       [[0., 0., 0., 0.],\n",
       "        [0., 0., 0., 0.],\n",
       "        [0., 0., 0., 0.],\n",
       "        [0., 0., 0., 0.],\n",
       "        [0., 0., 0., 0.],\n",
       "        [0., 0., 0., 0.],\n",
       "        [0., 0., 0., 0.],\n",
       "        [0., 0., 0., 0.],\n",
       "        [0., 0., 0., 0.],\n",
       "        [0., 0., 0., 0.],\n",
       "        [0., 0., 0., 0.]],\n",
       "\n",
       "       [[0., 0., 0., 0.],\n",
       "        [0., 0., 0., 0.],\n",
       "        [0., 0., 0., 0.],\n",
       "        [0., 0., 0., 0.],\n",
       "        [0., 0., 0., 0.],\n",
       "        [0., 0., 0., 0.],\n",
       "        [0., 0., 0., 0.],\n",
       "        [0., 0., 0., 0.],\n",
       "        [0., 0., 0., 0.],\n",
       "        [0., 0., 0., 0.],\n",
       "        [0., 0., 0., 0.]]])"
      ]
     },
     "execution_count": 10,
     "metadata": {},
     "output_type": "execute_result"
    }
   ],
   "source": [
    "q_values #row -state, column-action"
   ]
  },
  {
   "cell_type": "code",
   "execution_count": 11,
   "id": "f9bfdeb7",
   "metadata": {},
   "outputs": [],
   "source": [
    "actions=['up','left','right','down']"
   ]
  },
  {
   "cell_type": "code",
   "execution_count": 12,
   "id": "00a0d561",
   "metadata": {},
   "outputs": [],
   "source": [
    "#goal=green=100,black=-100=termination,rest path=-1=white"
   ]
  },
  {
   "cell_type": "code",
   "execution_count": 15,
   "id": "90d2c63a",
   "metadata": {},
   "outputs": [
    {
     "data": {
      "text/plain": [
       "array([[-100, -100, -100, -100, -100, -100, -100, -100, -100, -100, -100],\n",
       "       [-100, -100, -100, -100, -100, -100, -100, -100, -100, -100, -100],\n",
       "       [-100, -100, -100, -100, -100, -100, -100, -100, -100, -100, -100],\n",
       "       [-100, -100, -100, -100, -100, -100, -100, -100, -100, -100, -100],\n",
       "       [-100, -100, -100, -100, -100, -100, -100, -100, -100, -100, -100],\n",
       "       [-100, -100, -100, -100, -100, -100, -100, -100, -100, -100, -100],\n",
       "       [-100, -100, -100, -100, -100, -100, -100, -100, -100, -100, -100],\n",
       "       [-100, -100, -100, -100, -100, -100, -100, -100, -100, -100, -100],\n",
       "       [-100, -100, -100, -100, -100, -100, -100, -100, -100, -100, -100],\n",
       "       [-100, -100, -100, -100, -100, -100, -100, -100, -100, -100, -100],\n",
       "       [-100, -100, -100, -100, -100, -100, -100, -100, -100, -100, -100]])"
      ]
     },
     "execution_count": 15,
     "metadata": {},
     "output_type": "execute_result"
    }
   ],
   "source": [
    "rewards=np.full((enviornment_rows,enviornment_columns),-100)\n",
    "rewards #filling all matrix value with -100"
   ]
  },
  {
   "cell_type": "code",
   "execution_count": 17,
   "id": "ba160882",
   "metadata": {},
   "outputs": [
    {
     "data": {
      "text/plain": [
       "array([[-100, -100, -100, -100, -100,  100, -100, -100, -100, -100, -100],\n",
       "       [-100, -100, -100, -100, -100, -100, -100, -100, -100, -100, -100],\n",
       "       [-100, -100, -100, -100, -100, -100, -100, -100, -100, -100, -100],\n",
       "       [-100, -100, -100, -100, -100, -100, -100, -100, -100, -100, -100],\n",
       "       [-100, -100, -100, -100, -100, -100, -100, -100, -100, -100, -100],\n",
       "       [-100, -100, -100, -100, -100, -100, -100, -100, -100, -100, -100],\n",
       "       [-100, -100, -100, -100, -100, -100, -100, -100, -100, -100, -100],\n",
       "       [-100, -100, -100, -100, -100, -100, -100, -100, -100, -100, -100],\n",
       "       [-100, -100, -100, -100, -100, -100, -100, -100, -100, -100, -100],\n",
       "       [-100, -100, -100, -100, -100, -100, -100, -100, -100, -100, -100],\n",
       "       [-100, -100, -100, -100, -100, -100, -100, -100, -100, -100, -100]])"
      ]
     },
     "execution_count": 17,
     "metadata": {},
     "output_type": "execute_result"
    }
   ],
   "source": [
    "rewards[0,5]=100 #setting goal as 100,(i.e reward for packaging area)\n",
    "rewards"
   ]
  },
  {
   "cell_type": "code",
   "execution_count": 18,
   "id": "13b709df",
   "metadata": {},
   "outputs": [],
   "source": [
    "#define aisle locations(white squares) with dictionary"
   ]
  },
  {
   "cell_type": "code",
   "execution_count": 21,
   "id": "7a59d533",
   "metadata": {},
   "outputs": [],
   "source": [
    "aisels={}\n",
    "aisels[1]=[i for i in range(1,10)]\n",
    "aisels[2]=[1,7,9]\n",
    "aisels[3]=[i for i in range(1,8)]\n",
    "aisels[3].append(9)"
   ]
  },
  {
   "cell_type": "code",
   "execution_count": 1,
   "id": "1f14fcde",
   "metadata": {},
   "outputs": [],
   "source": [
    "#not completed"
   ]
  },
  {
   "cell_type": "code",
   "execution_count": null,
   "id": "5540ea8d",
   "metadata": {},
   "outputs": [],
   "source": []
  }
 ],
 "metadata": {
  "kernelspec": {
   "display_name": "Python 3",
   "language": "python",
   "name": "python3"
  },
  "language_info": {
   "codemirror_mode": {
    "name": "ipython",
    "version": 3
   },
   "file_extension": ".py",
   "mimetype": "text/x-python",
   "name": "python",
   "nbconvert_exporter": "python",
   "pygments_lexer": "ipython3",
   "version": "3.6.13"
  }
 },
 "nbformat": 4,
 "nbformat_minor": 5
}
