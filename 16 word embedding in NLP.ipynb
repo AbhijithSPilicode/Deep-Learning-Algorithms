{
 "cells": [
  {
   "cell_type": "code",
   "execution_count": 23,
   "id": "bb91c0cd",
   "metadata": {},
   "outputs": [],
   "source": [
    "#Word Embedding"
   ]
  },
  {
   "cell_type": "code",
   "execution_count": 24,
   "id": "7fc8753c",
   "metadata": {},
   "outputs": [],
   "source": [
    "#To create vector 2 method : CountVectorizer & BAG of words"
   ]
  },
  {
   "cell_type": "code",
   "execution_count": 25,
   "id": "f45966f1",
   "metadata": {},
   "outputs": [],
   "source": [
    "#CountVectorizer"
   ]
  },
  {
   "cell_type": "code",
   "execution_count": 26,
   "id": "84e91b11",
   "metadata": {},
   "outputs": [],
   "source": [
    "from sklearn.feature_extraction.text import CountVectorizer"
   ]
  },
  {
   "cell_type": "code",
   "execution_count": 27,
   "id": "3d884f82",
   "metadata": {},
   "outputs": [],
   "source": [
    "#cv=CountVectorizer() #if you want every word you can use this\n",
    "cv=CountVectorizer(stop_words=\"english\") #it will avoid words like is,the,a"
   ]
  },
  {
   "cell_type": "code",
   "execution_count": 28,
   "id": "8295a755",
   "metadata": {},
   "outputs": [],
   "source": [
    "corpus=[\"This burger is very tasty and affordable.\", #sentence1\n",
    "        \"This burger is not tasty and affordable.\",  #sentence2\n",
    "        \"This burger is very very delicious.\"]    #sentence3"
   ]
  },
  {
   "cell_type": "code",
   "execution_count": 29,
   "id": "00a0bf94",
   "metadata": {},
   "outputs": [
    {
     "data": {
      "text/plain": [
       "<3x4 sparse matrix of type '<class 'numpy.int64'>'\n",
       "\twith 8 stored elements in Compressed Sparse Row format>"
      ]
     },
     "execution_count": 29,
     "metadata": {},
     "output_type": "execute_result"
    }
   ],
   "source": [
    "X=cv.fit_transform(corpus)\n",
    "X"
   ]
  },
  {
   "cell_type": "code",
   "execution_count": 30,
   "id": "addcf229",
   "metadata": {},
   "outputs": [
    {
     "data": {
      "text/plain": [
       "array([[1, 1, 0, 1],\n",
       "       [1, 1, 0, 1],\n",
       "       [0, 1, 1, 0]], dtype=int64)"
      ]
     },
     "execution_count": 30,
     "metadata": {},
     "output_type": "execute_result"
    }
   ],
   "source": [
    "result=X.toarray()\n",
    "result #here 3 array since 3 sentence"
   ]
  },
  {
   "cell_type": "code",
   "execution_count": 31,
   "id": "e318ad17",
   "metadata": {},
   "outputs": [],
   "source": [
    "#Bag of words model\n",
    "\n",
    "# A string of numbers\n",
    "#taking unique words and find no.of that word in each sentence"
   ]
  },
  {
   "cell_type": "code",
   "execution_count": 32,
   "id": "513c088c",
   "metadata": {},
   "outputs": [],
   "source": [
    "import numpy as np\n",
    "import pandas as pd\n",
    "import regex as re"
   ]
  },
  {
   "cell_type": "code",
   "execution_count": 33,
   "id": "31c86da6",
   "metadata": {},
   "outputs": [],
   "source": [
    "doc1=\"Game of Thrones is an amazing tv series!\"\n",
    "doc2=\"Game of Thrones is the best tv series!\"\n",
    "doc3=\"Game of Thrones is so great\""
   ]
  },
  {
   "cell_type": "code",
   "execution_count": 34,
   "id": "69d54dc7",
   "metadata": {},
   "outputs": [
    {
     "data": {
      "text/plain": [
       "['game', 'of', 'thrones', 'is', 'an', 'amazing', 'tv', 'series']"
      ]
     },
     "execution_count": 34,
     "metadata": {},
     "output_type": "execute_result"
    }
   ],
   "source": [
    "l_doc1=re.sub(r\"[^a-zA-Z0-9]\",\" \",doc1.lower()).split()\n",
    "l_doc1 #we are splitting whereevre space come and avoiding special characters"
   ]
  },
  {
   "cell_type": "code",
   "execution_count": 35,
   "id": "05a1cd2c",
   "metadata": {},
   "outputs": [
    {
     "data": {
      "text/plain": [
       "['game', 'of', 'thrones', 'is', 'the', 'best', 'tv', 'series']"
      ]
     },
     "execution_count": 35,
     "metadata": {},
     "output_type": "execute_result"
    }
   ],
   "source": [
    "l_doc2=re.sub(r\"[^a-zA-Z0-9]\",\" \",doc2.lower()).split()\n",
    "l_doc2"
   ]
  },
  {
   "cell_type": "code",
   "execution_count": 36,
   "id": "6650d2ee",
   "metadata": {},
   "outputs": [
    {
     "data": {
      "text/plain": [
       "['game', 'of', 'thrones', 'is', 'so', 'great']"
      ]
     },
     "execution_count": 36,
     "metadata": {},
     "output_type": "execute_result"
    }
   ],
   "source": [
    "l_doc3=re.sub(r\"[^a-zA-Z0-9]\",\" \",doc3.lower()).split()\n",
    "l_doc3"
   ]
  },
  {
   "cell_type": "code",
   "execution_count": 37,
   "id": "d8834d82",
   "metadata": {},
   "outputs": [
    {
     "data": {
      "text/plain": [
       "array(['amazing', 'an', 'best', 'game', 'is', 'of', 'series', 'the',\n",
       "       'thrones', 'tv'], dtype='<U7')"
      ]
     },
     "execution_count": 37,
     "metadata": {},
     "output_type": "execute_result"
    }
   ],
   "source": [
    "wordset12=np.union1d(l_doc1,l_doc2) #words which occuring in both of them\n",
    "wordset12"
   ]
  },
  {
   "cell_type": "code",
   "execution_count": 38,
   "id": "69828d5a",
   "metadata": {},
   "outputs": [
    {
     "data": {
      "text/plain": [
       "array(['amazing', 'an', 'best', 'game', 'great', 'is', 'of', 'series',\n",
       "       'so', 'the', 'thrones', 'tv'], dtype='<U7')"
      ]
     },
     "execution_count": 38,
     "metadata": {},
     "output_type": "execute_result"
    }
   ],
   "source": [
    "wordset=np.union1d(wordset12,l_doc3) #all the unique words from all the 3 words\n",
    "wordset"
   ]
  },
  {
   "cell_type": "code",
   "execution_count": 39,
   "id": "1743ec48",
   "metadata": {},
   "outputs": [],
   "source": [
    "def calculateBOW(wordset,l_doc):\n",
    "    termfrequency=dict.fromkeys(wordset,0) #fromkeys will take take each word as key in dictionary which have value=0\n",
    "    for word in l_doc:\n",
    "        termfrequency[word]=l_doc.count(word) #termfrequency[\"amazing\"]=l_doc.count(\"amazing\")\n",
    "    return termfrequency    "
   ]
  },
  {
   "cell_type": "code",
   "execution_count": 40,
   "id": "471d5baa",
   "metadata": {},
   "outputs": [
    {
     "data": {
      "text/plain": [
       "{'amazing': 1,\n",
       " 'an': 1,\n",
       " 'best': 0,\n",
       " 'game': 1,\n",
       " 'great': 0,\n",
       " 'is': 1,\n",
       " 'of': 1,\n",
       " 'series': 1,\n",
       " 'so': 0,\n",
       " 'the': 0,\n",
       " 'thrones': 1,\n",
       " 'tv': 1}"
      ]
     },
     "execution_count": 40,
     "metadata": {},
     "output_type": "execute_result"
    }
   ],
   "source": [
    "bow1=calculateBOW(wordset,l_doc1)\n",
    "bow1"
   ]
  },
  {
   "cell_type": "code",
   "execution_count": 41,
   "id": "9a799210",
   "metadata": {},
   "outputs": [],
   "source": [
    "#bow1=calculateBOW(wordset,l_doc1)\n",
    "bow2=calculateBOW(wordset,l_doc2)\n",
    "bow3=calculateBOW(wordset,l_doc3)"
   ]
  },
  {
   "cell_type": "code",
   "execution_count": 42,
   "id": "8e4bd9f6",
   "metadata": {},
   "outputs": [
    {
     "data": {
      "text/html": [
       "<div>\n",
       "<style scoped>\n",
       "    .dataframe tbody tr th:only-of-type {\n",
       "        vertical-align: middle;\n",
       "    }\n",
       "\n",
       "    .dataframe tbody tr th {\n",
       "        vertical-align: top;\n",
       "    }\n",
       "\n",
       "    .dataframe thead th {\n",
       "        text-align: right;\n",
       "    }\n",
       "</style>\n",
       "<table border=\"1\" class=\"dataframe\">\n",
       "  <thead>\n",
       "    <tr style=\"text-align: right;\">\n",
       "      <th></th>\n",
       "      <th>amazing</th>\n",
       "      <th>an</th>\n",
       "      <th>best</th>\n",
       "      <th>game</th>\n",
       "      <th>great</th>\n",
       "      <th>is</th>\n",
       "      <th>of</th>\n",
       "      <th>series</th>\n",
       "      <th>so</th>\n",
       "      <th>the</th>\n",
       "      <th>thrones</th>\n",
       "      <th>tv</th>\n",
       "    </tr>\n",
       "  </thead>\n",
       "  <tbody>\n",
       "    <tr>\n",
       "      <th>0</th>\n",
       "      <td>1</td>\n",
       "      <td>1</td>\n",
       "      <td>0</td>\n",
       "      <td>1</td>\n",
       "      <td>0</td>\n",
       "      <td>1</td>\n",
       "      <td>1</td>\n",
       "      <td>1</td>\n",
       "      <td>0</td>\n",
       "      <td>0</td>\n",
       "      <td>1</td>\n",
       "      <td>1</td>\n",
       "    </tr>\n",
       "    <tr>\n",
       "      <th>1</th>\n",
       "      <td>0</td>\n",
       "      <td>0</td>\n",
       "      <td>1</td>\n",
       "      <td>1</td>\n",
       "      <td>0</td>\n",
       "      <td>1</td>\n",
       "      <td>1</td>\n",
       "      <td>1</td>\n",
       "      <td>0</td>\n",
       "      <td>1</td>\n",
       "      <td>1</td>\n",
       "      <td>1</td>\n",
       "    </tr>\n",
       "    <tr>\n",
       "      <th>2</th>\n",
       "      <td>0</td>\n",
       "      <td>0</td>\n",
       "      <td>0</td>\n",
       "      <td>1</td>\n",
       "      <td>1</td>\n",
       "      <td>1</td>\n",
       "      <td>1</td>\n",
       "      <td>0</td>\n",
       "      <td>1</td>\n",
       "      <td>0</td>\n",
       "      <td>1</td>\n",
       "      <td>0</td>\n",
       "    </tr>\n",
       "  </tbody>\n",
       "</table>\n",
       "</div>"
      ],
      "text/plain": [
       "   amazing  an  best  game  great  is  of  series  so  the  thrones  tv\n",
       "0        1   1     0     1      0   1   1       1   0    0        1   1\n",
       "1        0   0     1     1      0   1   1       1   0    1        1   1\n",
       "2        0   0     0     1      1   1   1       0   1    0        1   0"
      ]
     },
     "execution_count": 42,
     "metadata": {},
     "output_type": "execute_result"
    }
   ],
   "source": [
    "df_bow=pd.DataFrame([bow1,bow2,bow3])\n",
    "df_bow"
   ]
  },
  {
   "cell_type": "code",
   "execution_count": 43,
   "id": "ce32265d",
   "metadata": {},
   "outputs": [
    {
     "data": {
      "text/plain": [
       "<3x7 sparse matrix of type '<class 'numpy.int64'>'\n",
       "\twith 13 stored elements in Compressed Sparse Row format>"
      ]
     },
     "execution_count": 43,
     "metadata": {},
     "output_type": "execute_result"
    }
   ],
   "source": [
    "x=cv.fit_transform([doc1,doc2,doc3])\n",
    "x"
   ]
  },
  {
   "cell_type": "code",
   "execution_count": 44,
   "id": "676c2892",
   "metadata": {},
   "outputs": [
    {
     "data": {
      "text/html": [
       "<div>\n",
       "<style scoped>\n",
       "    .dataframe tbody tr th:only-of-type {\n",
       "        vertical-align: middle;\n",
       "    }\n",
       "\n",
       "    .dataframe tbody tr th {\n",
       "        vertical-align: top;\n",
       "    }\n",
       "\n",
       "    .dataframe thead th {\n",
       "        text-align: right;\n",
       "    }\n",
       "</style>\n",
       "<table border=\"1\" class=\"dataframe\">\n",
       "  <thead>\n",
       "    <tr style=\"text-align: right;\">\n",
       "      <th></th>\n",
       "      <th>amazing</th>\n",
       "      <th>best</th>\n",
       "      <th>game</th>\n",
       "      <th>great</th>\n",
       "      <th>series</th>\n",
       "      <th>thrones</th>\n",
       "      <th>tv</th>\n",
       "    </tr>\n",
       "  </thead>\n",
       "  <tbody>\n",
       "    <tr>\n",
       "      <th>0</th>\n",
       "      <td>1</td>\n",
       "      <td>0</td>\n",
       "      <td>1</td>\n",
       "      <td>0</td>\n",
       "      <td>1</td>\n",
       "      <td>1</td>\n",
       "      <td>1</td>\n",
       "    </tr>\n",
       "    <tr>\n",
       "      <th>1</th>\n",
       "      <td>0</td>\n",
       "      <td>1</td>\n",
       "      <td>1</td>\n",
       "      <td>0</td>\n",
       "      <td>1</td>\n",
       "      <td>1</td>\n",
       "      <td>1</td>\n",
       "    </tr>\n",
       "    <tr>\n",
       "      <th>2</th>\n",
       "      <td>0</td>\n",
       "      <td>0</td>\n",
       "      <td>1</td>\n",
       "      <td>1</td>\n",
       "      <td>0</td>\n",
       "      <td>1</td>\n",
       "      <td>0</td>\n",
       "    </tr>\n",
       "  </tbody>\n",
       "</table>\n",
       "</div>"
      ],
      "text/plain": [
       "   amazing  best  game  great  series  thrones  tv\n",
       "0        1     0     1      0       1        1   1\n",
       "1        0     1     1      0       1        1   1\n",
       "2        0     0     1      1       0        1   0"
      ]
     },
     "execution_count": 44,
     "metadata": {},
     "output_type": "execute_result"
    }
   ],
   "source": [
    "df_bow_sklearn=pd.DataFrame(x.toarray(),columns=cv.get_feature_names())\n",
    "df_bow_sklearn"
   ]
  },
  {
   "cell_type": "code",
   "execution_count": null,
   "id": "a2c82b6f",
   "metadata": {},
   "outputs": [],
   "source": []
  },
  {
   "cell_type": "code",
   "execution_count": null,
   "id": "683e0172",
   "metadata": {},
   "outputs": [],
   "source": []
  },
  {
   "cell_type": "code",
   "execution_count": null,
   "id": "688fc302",
   "metadata": {},
   "outputs": [],
   "source": []
  }
 ],
 "metadata": {
  "kernelspec": {
   "display_name": "Python 3",
   "language": "python",
   "name": "python3"
  },
  "language_info": {
   "codemirror_mode": {
    "name": "ipython",
    "version": 3
   },
   "file_extension": ".py",
   "mimetype": "text/x-python",
   "name": "python",
   "nbconvert_exporter": "python",
   "pygments_lexer": "ipython3",
   "version": "3.6.13"
  }
 },
 "nbformat": 4,
 "nbformat_minor": 5
}
