{
 "cells": [
  {
   "cell_type": "code",
   "execution_count": 6,
   "id": "14a3370b",
   "metadata": {},
   "outputs": [],
   "source": [
    "from keras import backend as k"
   ]
  },
  {
   "cell_type": "code",
   "execution_count": 7,
   "id": "e2639586",
   "metadata": {},
   "outputs": [
    {
     "data": {
      "text/plain": [
       "'tensorflow'"
      ]
     },
     "execution_count": 7,
     "metadata": {},
     "output_type": "execute_result"
    }
   ],
   "source": [
    "k.backend() #that means keras use tensorflow as backend"
   ]
  },
  {
   "cell_type": "code",
   "execution_count": 9,
   "id": "3cc3cccd",
   "metadata": {},
   "outputs": [
    {
     "data": {
      "text/plain": [
       "(2, 3)"
      ]
     },
     "execution_count": 9,
     "metadata": {},
     "output_type": "execute_result"
    }
   ],
   "source": [
    "data=k.placeholder(shape=(2,3))\n",
    "k.int_shape(data)"
   ]
  },
  {
   "cell_type": "code",
   "execution_count": 12,
   "id": "ec86fd90",
   "metadata": {},
   "outputs": [
    {
     "data": {
      "text/plain": [
       "<KerasTensor: shape=(4, 3) dtype=float32 (created by layer 'tf.linalg.matmul_1')>"
      ]
     },
     "execution_count": 12,
     "metadata": {},
     "output_type": "execute_result"
    }
   ],
   "source": [
    "a=k.placeholder(shape=(4,2))\n",
    "b=k.placeholder(shape=(2,3))\n",
    "c=k.dot(a,b)\n",
    "c  #it will only give shape,because we are not giving array"
   ]
  },
  {
   "cell_type": "code",
   "execution_count": 14,
   "id": "3dcdf10a",
   "metadata": {},
   "outputs": [
    {
     "data": {
      "text/plain": [
       "<tf.Variable 'Variable:0' shape=(2, 3) dtype=float32, numpy=\n",
       "array([[1., 1., 1.],\n",
       "       [1., 1., 1.]], dtype=float32)>"
      ]
     },
     "execution_count": 14,
     "metadata": {},
     "output_type": "execute_result"
    }
   ],
   "source": [
    "res=k.ones(shape=(2,3)) #array of ones\n",
    "res"
   ]
  },
  {
   "cell_type": "code",
   "execution_count": 16,
   "id": "509279be",
   "metadata": {},
   "outputs": [
    {
     "data": {
      "text/plain": [
       "array([[1., 1., 1.],\n",
       "       [1., 1., 1.]], dtype=float32)"
      ]
     },
     "execution_count": 16,
     "metadata": {},
     "output_type": "execute_result"
    }
   ],
   "source": [
    "k.eval(res)  #just to give the output"
   ]
  },
  {
   "cell_type": "code",
   "execution_count": 18,
   "id": "a7f7bd58",
   "metadata": {},
   "outputs": [
    {
     "data": {
      "text/plain": [
       "<tf.Tensor: shape=(3, 2), dtype=float32, numpy=\n",
       "array([[10., 30.],\n",
       "       [20., 40.],\n",
       "       [30., 50.]], dtype=float32)>"
      ]
     },
     "execution_count": 18,
     "metadata": {},
     "output_type": "execute_result"
    }
   ],
   "source": [
    "d=k.variable([[10,20,30],[30,40,50]])\n",
    "result=k.transpose(d)\n",
    "result"
   ]
  },
  {
   "cell_type": "code",
   "execution_count": 19,
   "id": "47843569",
   "metadata": {},
   "outputs": [],
   "source": [
    "from keras.models import Sequential\n",
    "from keras.layers import Activation,Dense\n",
    "from keras import initializers\n",
    "from keras import constraints"
   ]
  },
  {
   "cell_type": "code",
   "execution_count": 20,
   "id": "168e297e",
   "metadata": {},
   "outputs": [],
   "source": [
    "model=Sequential()"
   ]
  },
  {
   "cell_type": "code",
   "execution_count": 21,
   "id": "c2d1e08b",
   "metadata": {},
   "outputs": [],
   "source": [
    "model.add(Dense(32,input_shape=(16,),kernel_initializer='he_uniform',kernel_regularizer=None,kernel_constraint='MaxNorm',activation='relu'))\n",
    "#first dense layer #first layer only need shape,because output of first layer will be input of second layer"
   ]
  },
  {
   "cell_type": "code",
   "execution_count": 22,
   "id": "7c722773",
   "metadata": {},
   "outputs": [],
   "source": [
    "model.add(Dense(16,activation='relu')) #adding dense layer using unit"
   ]
  },
  {
   "cell_type": "code",
   "execution_count": 23,
   "id": "be261588",
   "metadata": {},
   "outputs": [],
   "source": [
    "model.add(Dense(8))"
   ]
  },
  {
   "cell_type": "code",
   "execution_count": 24,
   "id": "4153754b",
   "metadata": {},
   "outputs": [],
   "source": [
    "shape=(4,2)"
   ]
  },
  {
   "cell_type": "code",
   "execution_count": 25,
   "id": "b69343c2",
   "metadata": {},
   "outputs": [],
   "source": [
    "import numpy as np"
   ]
  },
  {
   "cell_type": "code",
   "execution_count": 27,
   "id": "be2e9c96",
   "metadata": {},
   "outputs": [
    {
     "data": {
      "text/plain": [
       "array([[0., 0.],\n",
       "       [0., 0.],\n",
       "       [0., 0.],\n",
       "       [0., 0.]])"
      ]
     },
     "execution_count": 27,
     "metadata": {},
     "output_type": "execute_result"
    }
   ],
   "source": [
    "input=np.zeros(shape)\n",
    "input"
   ]
  },
  {
   "cell_type": "code",
   "execution_count": 28,
   "id": "656ee127",
   "metadata": {},
   "outputs": [],
   "source": [
    "my_init=initializers.Zeros() #you can use ones also\n",
    "model=Sequential()\n",
    "model.add(Dense(512,input_shape=(784,),kernel_initializer=my_init))\n",
    "#it will generate zeros for all input data"
   ]
  },
  {
   "cell_type": "code",
   "execution_count": 30,
   "id": "f577d9d4",
   "metadata": {},
   "outputs": [],
   "source": [
    "my_init=initializers.Constant(value=5)  #constant\n",
    "model=Sequential()\n",
    "model.add(Dense(512,input_shape=(784,),kernel_initializer=my_init))"
   ]
  },
  {
   "cell_type": "code",
   "execution_count": 32,
   "id": "415acbf2",
   "metadata": {},
   "outputs": [],
   "source": [
    "my_constraint=constraints.MaxNorm(max_value=2,axis=0)\n",
    "#the first dimension of array should have value <=2\n",
    "model=Sequential()\n",
    "model.add(Dense(512,input_shape=(784,),kernel_initializer=my_init,kernel_constraint=my_constraint))"
   ]
  },
  {
   "cell_type": "code",
   "execution_count": null,
   "id": "ae8bc91e",
   "metadata": {},
   "outputs": [],
   "source": []
  }
 ],
 "metadata": {
  "kernelspec": {
   "display_name": "Python 3",
   "language": "python",
   "name": "python3"
  },
  "language_info": {
   "codemirror_mode": {
    "name": "ipython",
    "version": 3
   },
   "file_extension": ".py",
   "mimetype": "text/x-python",
   "name": "python",
   "nbconvert_exporter": "python",
   "pygments_lexer": "ipython3",
   "version": "3.6.13"
  }
 },
 "nbformat": 4,
 "nbformat_minor": 5
}
