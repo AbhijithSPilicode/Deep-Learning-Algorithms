{
 "cells": [
  {
   "cell_type": "code",
   "execution_count": 12,
   "id": "c74b146c",
   "metadata": {},
   "outputs": [],
   "source": [
    "import numpy as np\n",
    "from tensorflow.keras import models"
   ]
  },
  {
   "cell_type": "code",
   "execution_count": 13,
   "id": "f984d496",
   "metadata": {},
   "outputs": [],
   "source": [
    "image=np.array([[2,2,7,3],\n",
    "              [9,4,6,1],\n",
    "              [8,5,2,4],\n",
    "              [3,1,2,6]])"
   ]
  },
  {
   "cell_type": "code",
   "execution_count": 14,
   "id": "6feed714",
   "metadata": {},
   "outputs": [],
   "source": [
    "image=image.reshape(1,4,4,1)"
   ]
  },
  {
   "cell_type": "code",
   "execution_count": 15,
   "id": "115a7ff8",
   "metadata": {},
   "outputs": [
    {
     "data": {
      "text/plain": [
       "array([[[[2],\n",
       "         [2],\n",
       "         [7],\n",
       "         [3]],\n",
       "\n",
       "        [[9],\n",
       "         [4],\n",
       "         [6],\n",
       "         [1]],\n",
       "\n",
       "        [[8],\n",
       "         [5],\n",
       "         [2],\n",
       "         [4]],\n",
       "\n",
       "        [[3],\n",
       "         [1],\n",
       "         [2],\n",
       "         [6]]]])"
      ]
     },
     "execution_count": 15,
     "metadata": {},
     "output_type": "execute_result"
    }
   ],
   "source": [
    "image"
   ]
  },
  {
   "cell_type": "code",
   "execution_count": 17,
   "id": "9174fd4b",
   "metadata": {},
   "outputs": [],
   "source": [
    "from keras.models import Sequential\n",
    "from keras.layers import MaxPooling2D\n",
    "model=Sequential([MaxPooling2D(pool_size=2,strides=2)])"
   ]
  },
  {
   "cell_type": "code",
   "execution_count": 18,
   "id": "5d62845a",
   "metadata": {},
   "outputs": [
    {
     "data": {
      "text/plain": [
       "array([[[[9],\n",
       "         [7]],\n",
       "\n",
       "        [[8],\n",
       "         [6]]]])"
      ]
     },
     "execution_count": 18,
     "metadata": {},
     "output_type": "execute_result"
    }
   ],
   "source": [
    "model.predict(image)"
   ]
  },
  {
   "cell_type": "code",
   "execution_count": null,
   "id": "538afac5",
   "metadata": {},
   "outputs": [],
   "source": []
  }
 ],
 "metadata": {
  "kernelspec": {
   "display_name": "Python 3",
   "language": "python",
   "name": "python3"
  },
  "language_info": {
   "codemirror_mode": {
    "name": "ipython",
    "version": 3
   },
   "file_extension": ".py",
   "mimetype": "text/x-python",
   "name": "python",
   "nbconvert_exporter": "python",
   "pygments_lexer": "ipython3",
   "version": "3.6.13"
  }
 },
 "nbformat": 4,
 "nbformat_minor": 5
}
