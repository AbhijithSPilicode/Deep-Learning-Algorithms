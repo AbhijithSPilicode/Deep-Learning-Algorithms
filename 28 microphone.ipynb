{
 "cells": [
  {
   "cell_type": "code",
   "execution_count": 1,
   "id": "cf9ef4ea",
   "metadata": {},
   "outputs": [],
   "source": [
    "#pip install PyAudio"
   ]
  },
  {
   "cell_type": "code",
   "execution_count": 2,
   "id": "3f720f58",
   "metadata": {},
   "outputs": [],
   "source": [
    "import speech_recognition as sr\n",
    "r=sr.Recognizer() "
   ]
  },
  {
   "cell_type": "code",
   "execution_count": 3,
   "id": "62433b39",
   "metadata": {},
   "outputs": [],
   "source": [
    "mic=sr.Microphone() #for default microphone"
   ]
  },
  {
   "cell_type": "code",
   "execution_count": 4,
   "id": "83733073",
   "metadata": {},
   "outputs": [
    {
     "data": {
      "text/plain": [
       "['Microsoft Sound Mapper - Input',\n",
       " 'Microphone (Realtek(R) Audio)',\n",
       " 'Stereo Mix (Realtek(R) Audio)',\n",
       " 'Microphone (DroidCam Virtual Au',\n",
       " 'Microsoft Sound Mapper - Output',\n",
       " 'Speaker / Headphone (Realtek(R)']"
      ]
     },
     "execution_count": 4,
     "metadata": {},
     "output_type": "execute_result"
    }
   ],
   "source": [
    "mic.list_microphone_names()"
   ]
  },
  {
   "cell_type": "code",
   "execution_count": 5,
   "id": "06c68b1e",
   "metadata": {},
   "outputs": [],
   "source": [
    "with mic as source:\n",
    "    audio=r.listen(source)  #talk while running this cell"
   ]
  },
  {
   "cell_type": "code",
   "execution_count": 6,
   "id": "4a196896",
   "metadata": {},
   "outputs": [
    {
     "name": "stdout",
     "output_type": "stream",
     "text": [
      "hello hello\n"
     ]
    }
   ],
   "source": [
    "s=r.recognize_google(audio)\n",
    "print(s)"
   ]
  },
  {
   "cell_type": "code",
   "execution_count": null,
   "id": "c5079b16",
   "metadata": {},
   "outputs": [],
   "source": []
  }
 ],
 "metadata": {
  "kernelspec": {
   "display_name": "Python 3",
   "language": "python",
   "name": "python3"
  },
  "language_info": {
   "codemirror_mode": {
    "name": "ipython",
    "version": 3
   },
   "file_extension": ".py",
   "mimetype": "text/x-python",
   "name": "python",
   "nbconvert_exporter": "python",
   "pygments_lexer": "ipython3",
   "version": "3.6.13"
  }
 },
 "nbformat": 4,
 "nbformat_minor": 5
}
