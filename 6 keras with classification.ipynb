{
 "cells": [
  {
   "cell_type": "code",
   "execution_count": 27,
   "id": "86a5686b",
   "metadata": {},
   "outputs": [
    {
     "data": {
      "text/html": [
       "<div>\n",
       "<style scoped>\n",
       "    .dataframe tbody tr th:only-of-type {\n",
       "        vertical-align: middle;\n",
       "    }\n",
       "\n",
       "    .dataframe tbody tr th {\n",
       "        vertical-align: top;\n",
       "    }\n",
       "\n",
       "    .dataframe thead th {\n",
       "        text-align: right;\n",
       "    }\n",
       "</style>\n",
       "<table border=\"1\" class=\"dataframe\">\n",
       "  <thead>\n",
       "    <tr style=\"text-align: right;\">\n",
       "      <th></th>\n",
       "      <th>Pregnancies</th>\n",
       "      <th>Glucose</th>\n",
       "      <th>BloodPressure</th>\n",
       "      <th>SkinThickness</th>\n",
       "      <th>Insulin</th>\n",
       "      <th>BMI</th>\n",
       "      <th>DiabetesPedigreeFunction</th>\n",
       "      <th>Age</th>\n",
       "      <th>Outcome</th>\n",
       "    </tr>\n",
       "  </thead>\n",
       "  <tbody>\n",
       "    <tr>\n",
       "      <th>0</th>\n",
       "      <td>6</td>\n",
       "      <td>148</td>\n",
       "      <td>72</td>\n",
       "      <td>35</td>\n",
       "      <td>0</td>\n",
       "      <td>33.6</td>\n",
       "      <td>0.627</td>\n",
       "      <td>50</td>\n",
       "      <td>1</td>\n",
       "    </tr>\n",
       "    <tr>\n",
       "      <th>1</th>\n",
       "      <td>1</td>\n",
       "      <td>85</td>\n",
       "      <td>66</td>\n",
       "      <td>29</td>\n",
       "      <td>0</td>\n",
       "      <td>26.6</td>\n",
       "      <td>0.351</td>\n",
       "      <td>31</td>\n",
       "      <td>0</td>\n",
       "    </tr>\n",
       "    <tr>\n",
       "      <th>2</th>\n",
       "      <td>8</td>\n",
       "      <td>183</td>\n",
       "      <td>64</td>\n",
       "      <td>0</td>\n",
       "      <td>0</td>\n",
       "      <td>23.3</td>\n",
       "      <td>0.672</td>\n",
       "      <td>32</td>\n",
       "      <td>1</td>\n",
       "    </tr>\n",
       "    <tr>\n",
       "      <th>3</th>\n",
       "      <td>1</td>\n",
       "      <td>89</td>\n",
       "      <td>66</td>\n",
       "      <td>23</td>\n",
       "      <td>94</td>\n",
       "      <td>28.1</td>\n",
       "      <td>0.167</td>\n",
       "      <td>21</td>\n",
       "      <td>0</td>\n",
       "    </tr>\n",
       "    <tr>\n",
       "      <th>4</th>\n",
       "      <td>0</td>\n",
       "      <td>137</td>\n",
       "      <td>40</td>\n",
       "      <td>35</td>\n",
       "      <td>168</td>\n",
       "      <td>43.1</td>\n",
       "      <td>2.288</td>\n",
       "      <td>33</td>\n",
       "      <td>1</td>\n",
       "    </tr>\n",
       "  </tbody>\n",
       "</table>\n",
       "</div>"
      ],
      "text/plain": [
       "   Pregnancies  Glucose  BloodPressure  SkinThickness  Insulin   BMI  \\\n",
       "0            6      148             72             35        0  33.6   \n",
       "1            1       85             66             29        0  26.6   \n",
       "2            8      183             64              0        0  23.3   \n",
       "3            1       89             66             23       94  28.1   \n",
       "4            0      137             40             35      168  43.1   \n",
       "\n",
       "   DiabetesPedigreeFunction  Age  Outcome  \n",
       "0                     0.627   50        1  \n",
       "1                     0.351   31        0  \n",
       "2                     0.672   32        1  \n",
       "3                     0.167   21        0  \n",
       "4                     2.288   33        1  "
      ]
     },
     "execution_count": 27,
     "metadata": {},
     "output_type": "execute_result"
    }
   ],
   "source": [
    "import pandas as pd\n",
    "data=pd.read_csv(\"C:\\\\Users\\\\user\\\\Downloads\\\\diabetes.csv\")\n",
    "data.head()"
   ]
  },
  {
   "cell_type": "code",
   "execution_count": 28,
   "id": "fb959625",
   "metadata": {},
   "outputs": [
    {
     "data": {
      "text/html": [
       "<div>\n",
       "<style scoped>\n",
       "    .dataframe tbody tr th:only-of-type {\n",
       "        vertical-align: middle;\n",
       "    }\n",
       "\n",
       "    .dataframe tbody tr th {\n",
       "        vertical-align: top;\n",
       "    }\n",
       "\n",
       "    .dataframe thead th {\n",
       "        text-align: right;\n",
       "    }\n",
       "</style>\n",
       "<table border=\"1\" class=\"dataframe\">\n",
       "  <thead>\n",
       "    <tr style=\"text-align: right;\">\n",
       "      <th></th>\n",
       "      <th>Pregnancies</th>\n",
       "      <th>Glucose</th>\n",
       "      <th>BloodPressure</th>\n",
       "      <th>SkinThickness</th>\n",
       "      <th>Insulin</th>\n",
       "      <th>BMI</th>\n",
       "      <th>DiabetesPedigreeFunction</th>\n",
       "      <th>Age</th>\n",
       "    </tr>\n",
       "  </thead>\n",
       "  <tbody>\n",
       "    <tr>\n",
       "      <th>0</th>\n",
       "      <td>6</td>\n",
       "      <td>148</td>\n",
       "      <td>72</td>\n",
       "      <td>35</td>\n",
       "      <td>0</td>\n",
       "      <td>33.6</td>\n",
       "      <td>0.627</td>\n",
       "      <td>50</td>\n",
       "    </tr>\n",
       "    <tr>\n",
       "      <th>1</th>\n",
       "      <td>1</td>\n",
       "      <td>85</td>\n",
       "      <td>66</td>\n",
       "      <td>29</td>\n",
       "      <td>0</td>\n",
       "      <td>26.6</td>\n",
       "      <td>0.351</td>\n",
       "      <td>31</td>\n",
       "    </tr>\n",
       "    <tr>\n",
       "      <th>2</th>\n",
       "      <td>8</td>\n",
       "      <td>183</td>\n",
       "      <td>64</td>\n",
       "      <td>0</td>\n",
       "      <td>0</td>\n",
       "      <td>23.3</td>\n",
       "      <td>0.672</td>\n",
       "      <td>32</td>\n",
       "    </tr>\n",
       "    <tr>\n",
       "      <th>3</th>\n",
       "      <td>1</td>\n",
       "      <td>89</td>\n",
       "      <td>66</td>\n",
       "      <td>23</td>\n",
       "      <td>94</td>\n",
       "      <td>28.1</td>\n",
       "      <td>0.167</td>\n",
       "      <td>21</td>\n",
       "    </tr>\n",
       "    <tr>\n",
       "      <th>4</th>\n",
       "      <td>0</td>\n",
       "      <td>137</td>\n",
       "      <td>40</td>\n",
       "      <td>35</td>\n",
       "      <td>168</td>\n",
       "      <td>43.1</td>\n",
       "      <td>2.288</td>\n",
       "      <td>33</td>\n",
       "    </tr>\n",
       "  </tbody>\n",
       "</table>\n",
       "</div>"
      ],
      "text/plain": [
       "   Pregnancies  Glucose  BloodPressure  SkinThickness  Insulin   BMI  \\\n",
       "0            6      148             72             35        0  33.6   \n",
       "1            1       85             66             29        0  26.6   \n",
       "2            8      183             64              0        0  23.3   \n",
       "3            1       89             66             23       94  28.1   \n",
       "4            0      137             40             35      168  43.1   \n",
       "\n",
       "   DiabetesPedigreeFunction  Age  \n",
       "0                     0.627   50  \n",
       "1                     0.351   31  \n",
       "2                     0.672   32  \n",
       "3                     0.167   21  \n",
       "4                     2.288   33  "
      ]
     },
     "execution_count": 28,
     "metadata": {},
     "output_type": "execute_result"
    }
   ],
   "source": [
    "X_train=data.drop(columns=['Outcome'])\n",
    "X_train.head()"
   ]
  },
  {
   "cell_type": "code",
   "execution_count": 29,
   "id": "fb71c4f9",
   "metadata": {},
   "outputs": [],
   "source": [
    "#outcome has 2 category = 0 and 1"
   ]
  },
  {
   "cell_type": "code",
   "execution_count": 30,
   "id": "32b9afbc",
   "metadata": {},
   "outputs": [],
   "source": [
    "from keras.utils.np_utils import to_categorical"
   ]
  },
  {
   "cell_type": "code",
   "execution_count": 42,
   "id": "2e619ac7",
   "metadata": {},
   "outputs": [],
   "source": [
    "y_train=to_categorical(data.Outcome)"
   ]
  },
  {
   "cell_type": "code",
   "execution_count": 32,
   "id": "54eb0a35",
   "metadata": {},
   "outputs": [
    {
     "data": {
      "text/plain": [
       "array([[0., 1.],\n",
       "       [1., 0.],\n",
       "       [0., 1.],\n",
       "       [1., 0.],\n",
       "       [0., 1.]], dtype=float32)"
      ]
     },
     "execution_count": 32,
     "metadata": {},
     "output_type": "execute_result"
    }
   ],
   "source": [
    "y_train[0:5] #if 0 is outcome,it will give 1 and if 1 is outcome it will give zero"
   ]
  },
  {
   "cell_type": "code",
   "execution_count": 33,
   "id": "750676f7",
   "metadata": {},
   "outputs": [],
   "source": [
    "from keras.models import Sequential\n",
    "from keras.layers import Dense\n",
    "model=Sequential()\n",
    "n_cols=X_train.shape[1]"
   ]
  },
  {
   "cell_type": "code",
   "execution_count": 34,
   "id": "cfdfdbc3",
   "metadata": {},
   "outputs": [
    {
     "data": {
      "text/plain": [
       "(768, 8)"
      ]
     },
     "execution_count": 34,
     "metadata": {},
     "output_type": "execute_result"
    }
   ],
   "source": [
    "X_train.shape"
   ]
  },
  {
   "cell_type": "code",
   "execution_count": 44,
   "id": "3a3c0be2",
   "metadata": {},
   "outputs": [],
   "source": [
    "model.add(Dense(200,activation='relu',input_shape=(n_cols,)))\n",
    "model.add(Dense(200,activation='relu'))\n",
    "model.add(Dense(2,activation='softmax')) #softmax is used to get output in 0 and 1 form since it is acategorical ouitput"
   ]
  },
  {
   "cell_type": "code",
   "execution_count": 45,
   "id": "153cf6c6",
   "metadata": {},
   "outputs": [],
   "source": [
    "model.compile(optimizer='adam',loss='categorical_crossentropy',metrics=['accuracy']) #metrics is accuracy after loss"
   ]
  },
  {
   "cell_type": "code",
   "execution_count": 46,
   "id": "f5642259",
   "metadata": {},
   "outputs": [
    {
     "name": "stdout",
     "output_type": "stream",
     "text": [
      "Epoch 1/30\n",
      "20/20 [==============================] - 2s 15ms/step - loss: 0.6529 - accuracy: 0.6515 - val_loss: 0.6448 - val_accuracy: 0.6429\n",
      "Epoch 2/30\n",
      "20/20 [==============================] - 0s 4ms/step - loss: 0.6276 - accuracy: 0.6531 - val_loss: 0.6881 - val_accuracy: 0.6429\n",
      "Epoch 3/30\n",
      "20/20 [==============================] - 0s 4ms/step - loss: 0.6587 - accuracy: 0.6531 - val_loss: 0.6622 - val_accuracy: 0.6429\n",
      "Epoch 4/30\n",
      "20/20 [==============================] - 0s 4ms/step - loss: 0.6409 - accuracy: 0.6531 - val_loss: 0.6674 - val_accuracy: 0.6429\n",
      "Epoch 5/30\n",
      "20/20 [==============================] - 0s 4ms/step - loss: 0.6379 - accuracy: 0.6531 - val_loss: 0.6575 - val_accuracy: 0.6429\n",
      "Epoch 6/30\n",
      "20/20 [==============================] - 0s 4ms/step - loss: 0.6247 - accuracy: 0.6531 - val_loss: 0.6800 - val_accuracy: 0.6429\n",
      "Epoch 7/30\n",
      "20/20 [==============================] - 0s 4ms/step - loss: 0.6273 - accuracy: 0.6564 - val_loss: 0.6698 - val_accuracy: 0.5584\n",
      "Epoch 8/30\n",
      "20/20 [==============================] - 0s 4ms/step - loss: 0.6231 - accuracy: 0.6042 - val_loss: 0.6552 - val_accuracy: 0.6429\n",
      "Epoch 9/30\n",
      "20/20 [==============================] - 0s 5ms/step - loss: 0.6450 - accuracy: 0.6531 - val_loss: 0.6667 - val_accuracy: 0.6429\n",
      "Epoch 10/30\n",
      "20/20 [==============================] - 0s 5ms/step - loss: 0.6372 - accuracy: 0.6531 - val_loss: 0.6657 - val_accuracy: 0.6429\n",
      "Epoch 11/30\n",
      "20/20 [==============================] - 0s 4ms/step - loss: 0.6252 - accuracy: 0.6531 - val_loss: 0.6754 - val_accuracy: 0.6429\n",
      "Epoch 12/30\n",
      "20/20 [==============================] - 0s 4ms/step - loss: 0.6246 - accuracy: 0.6531 - val_loss: 0.6729 - val_accuracy: 0.6429\n",
      "Epoch 13/30\n",
      "20/20 [==============================] - 0s 4ms/step - loss: 0.6246 - accuracy: 0.6531 - val_loss: 0.6703 - val_accuracy: 0.6429\n",
      "Epoch 14/30\n",
      "20/20 [==============================] - 0s 4ms/step - loss: 0.6274 - accuracy: 0.6531 - val_loss: 0.6658 - val_accuracy: 0.6429\n",
      "Epoch 15/30\n",
      "20/20 [==============================] - 0s 6ms/step - loss: 0.6340 - accuracy: 0.6531 - val_loss: 0.6603 - val_accuracy: 0.6429\n",
      "Epoch 16/30\n",
      "20/20 [==============================] - 0s 9ms/step - loss: 0.6337 - accuracy: 0.6531 - val_loss: 0.6881 - val_accuracy: 0.6429\n",
      "Epoch 17/30\n",
      "20/20 [==============================] - 0s 8ms/step - loss: 0.6535 - accuracy: 0.6531 - val_loss: 0.6547 - val_accuracy: 0.6429\n",
      "Epoch 18/30\n",
      "20/20 [==============================] - 0s 5ms/step - loss: 0.6510 - accuracy: 0.6531 - val_loss: 0.6493 - val_accuracy: 0.6429\n",
      "Epoch 19/30\n",
      "20/20 [==============================] - 0s 6ms/step - loss: 0.6459 - accuracy: 0.6531 - val_loss: 0.6531 - val_accuracy: 0.6429\n",
      "Epoch 20/30\n",
      "20/20 [==============================] - 0s 8ms/step - loss: 0.6471 - accuracy: 0.6531 - val_loss: 0.6518 - val_accuracy: 0.6429\n",
      "Epoch 21/30\n",
      "20/20 [==============================] - 0s 6ms/step - loss: 0.6463 - accuracy: 0.6531 - val_loss: 0.6518 - val_accuracy: 0.6429\n",
      "Epoch 22/30\n",
      "20/20 [==============================] - 0s 9ms/step - loss: 0.6472 - accuracy: 0.6531 - val_loss: 0.6520 - val_accuracy: 0.6429\n",
      "Epoch 23/30\n",
      "20/20 [==============================] - 0s 13ms/step - loss: 0.6474 - accuracy: 0.6531 - val_loss: 0.6536 - val_accuracy: 0.6429\n",
      "Epoch 24/30\n",
      "20/20 [==============================] - 0s 7ms/step - loss: 0.6486 - accuracy: 0.6531 - val_loss: 0.6523 - val_accuracy: 0.6429\n",
      "Epoch 25/30\n",
      "20/20 [==============================] - 0s 13ms/step - loss: 0.6458 - accuracy: 0.6531 - val_loss: 0.6525 - val_accuracy: 0.6429\n",
      "Epoch 26/30\n",
      "20/20 [==============================] - 0s 7ms/step - loss: 0.6468 - accuracy: 0.6531 - val_loss: 0.6518 - val_accuracy: 0.6429\n",
      "Epoch 27/30\n",
      "20/20 [==============================] - 0s 8ms/step - loss: 0.6466 - accuracy: 0.6531 - val_loss: 0.6518 - val_accuracy: 0.6429\n",
      "Epoch 28/30\n",
      "20/20 [==============================] - 0s 8ms/step - loss: 0.6474 - accuracy: 0.6531 - val_loss: 0.6520 - val_accuracy: 0.6429\n",
      "Epoch 29/30\n",
      "20/20 [==============================] - 0s 8ms/step - loss: 0.6468 - accuracy: 0.6531 - val_loss: 0.6518 - val_accuracy: 0.6429\n",
      "Epoch 30/30\n",
      "20/20 [==============================] - 0s 10ms/step - loss: 0.6493 - accuracy: 0.6531 - val_loss: 0.6518 - val_accuracy: 0.6429\n"
     ]
    },
    {
     "data": {
      "text/plain": [
       "<keras.callbacks.History at 0x1d6a5aff978>"
      ]
     },
     "execution_count": 46,
     "metadata": {},
     "output_type": "execute_result"
    }
   ],
   "source": [
    "model.fit(X_train,y_train,epochs=30,validation_split=0.2)"
   ]
  },
  {
   "cell_type": "code",
   "execution_count": null,
   "id": "33f44caa",
   "metadata": {},
   "outputs": [],
   "source": []
  }
 ],
 "metadata": {
  "kernelspec": {
   "display_name": "Python 3",
   "language": "python",
   "name": "python3"
  },
  "language_info": {
   "codemirror_mode": {
    "name": "ipython",
    "version": 3
   },
   "file_extension": ".py",
   "mimetype": "text/x-python",
   "name": "python",
   "nbconvert_exporter": "python",
   "pygments_lexer": "ipython3",
   "version": "3.6.13"
  }
 },
 "nbformat": 4,
 "nbformat_minor": 5
}
