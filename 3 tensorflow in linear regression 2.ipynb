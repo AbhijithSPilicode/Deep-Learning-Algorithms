{
 "cells": [
  {
   "cell_type": "code",
   "execution_count": 97,
   "id": "ee96e2ab",
   "metadata": {},
   "outputs": [],
   "source": [
    "import numpy as np\n",
    "import matplotlib.pyplot as plt\n",
    "import tensorflow as tf  #tensorflow is used to to reduce loss function"
   ]
  },
  {
   "cell_type": "code",
   "execution_count": 98,
   "id": "9a6dd431",
   "metadata": {},
   "outputs": [],
   "source": [
    "x_train=np.linspace(0,1,100)\n",
    "y_train=x_train+np.random.normal(0,1,100)"
   ]
  },
  {
   "cell_type": "code",
   "execution_count": 99,
   "id": "9c2c26b0",
   "metadata": {},
   "outputs": [
    {
     "data": {
      "text/plain": [
       "array([0.        , 0.01010101, 0.02020202, 0.03030303, 0.04040404,\n",
       "       0.05050505, 0.06060606, 0.07070707, 0.08080808, 0.09090909,\n",
       "       0.1010101 , 0.11111111, 0.12121212, 0.13131313, 0.14141414,\n",
       "       0.15151515, 0.16161616, 0.17171717, 0.18181818, 0.19191919,\n",
       "       0.2020202 , 0.21212121, 0.22222222, 0.23232323, 0.24242424,\n",
       "       0.25252525, 0.26262626, 0.27272727, 0.28282828, 0.29292929,\n",
       "       0.3030303 , 0.31313131, 0.32323232, 0.33333333, 0.34343434,\n",
       "       0.35353535, 0.36363636, 0.37373737, 0.38383838, 0.39393939,\n",
       "       0.4040404 , 0.41414141, 0.42424242, 0.43434343, 0.44444444,\n",
       "       0.45454545, 0.46464646, 0.47474747, 0.48484848, 0.49494949,\n",
       "       0.50505051, 0.51515152, 0.52525253, 0.53535354, 0.54545455,\n",
       "       0.55555556, 0.56565657, 0.57575758, 0.58585859, 0.5959596 ,\n",
       "       0.60606061, 0.61616162, 0.62626263, 0.63636364, 0.64646465,\n",
       "       0.65656566, 0.66666667, 0.67676768, 0.68686869, 0.6969697 ,\n",
       "       0.70707071, 0.71717172, 0.72727273, 0.73737374, 0.74747475,\n",
       "       0.75757576, 0.76767677, 0.77777778, 0.78787879, 0.7979798 ,\n",
       "       0.80808081, 0.81818182, 0.82828283, 0.83838384, 0.84848485,\n",
       "       0.85858586, 0.86868687, 0.87878788, 0.88888889, 0.8989899 ,\n",
       "       0.90909091, 0.91919192, 0.92929293, 0.93939394, 0.94949495,\n",
       "       0.95959596, 0.96969697, 0.97979798, 0.98989899, 1.        ])"
      ]
     },
     "execution_count": 99,
     "metadata": {},
     "output_type": "execute_result"
    }
   ],
   "source": [
    "x_train"
   ]
  },
  {
   "cell_type": "code",
   "execution_count": 100,
   "id": "a7c8e38a",
   "metadata": {},
   "outputs": [
    {
     "data": {
      "text/plain": [
       "array([-6.67413094e-01, -4.98859583e-01,  1.98579825e-01, -1.84957921e-01,\n",
       "        8.60190838e-01, -2.07818100e-01,  3.22888632e-01,  8.93488678e-01,\n",
       "        2.52343146e-02,  2.77045185e-02, -1.04062163e+00, -2.01912045e-01,\n",
       "       -2.16034428e-01, -2.05705430e-01, -4.94791329e-01,  6.84947590e-01,\n",
       "        7.32791724e-01, -1.34171645e+00,  9.13324093e-01, -4.01394647e-01,\n",
       "       -7.06264768e-02,  1.23985392e+00,  2.23885561e-01,  5.40274638e-01,\n",
       "        1.61477412e+00,  1.69924847e-01,  4.17623687e-01,  1.05575070e+00,\n",
       "        1.14397709e+00,  4.07778732e-01,  7.68159500e-01,  6.61668069e-01,\n",
       "       -8.32991802e-01,  4.68686489e-01, -7.80272527e-01,  5.59084624e-01,\n",
       "        5.22355801e-01, -5.92162526e-01, -5.41518539e-01,  4.81964124e-01,\n",
       "       -4.65999025e-01,  1.46322021e-01, -1.56650059e+00,  1.34965288e+00,\n",
       "        1.13314629e+00,  2.51691413e+00,  2.87021102e+00, -5.95106048e-01,\n",
       "        5.46726171e-01, -2.46802439e+00,  1.03269602e+00,  1.09015023e+00,\n",
       "        1.57660356e+00,  1.16711589e+00, -7.62924821e-01,  1.07270196e+00,\n",
       "        2.04127141e+00,  2.82927655e+00, -7.19292950e-01, -9.95725388e-02,\n",
       "        1.73151866e+00,  9.20142911e-01,  1.61729260e+00,  1.68059260e+00,\n",
       "        1.47054147e+00,  1.58437423e+00,  9.09854971e-01,  2.25546764e-03,\n",
       "        1.25827052e+00,  1.69894437e+00, -1.81003089e-01,  1.91699577e+00,\n",
       "       -9.70692191e-01,  5.32722447e-01,  1.39753864e+00, -2.08604010e+00,\n",
       "       -3.45911449e-01, -1.28815693e+00,  1.38076149e-01,  1.18930315e+00,\n",
       "        1.65889311e+00,  1.67947216e+00,  1.18574056e+00,  9.13961783e-01,\n",
       "        1.63052825e+00, -6.41147617e-01, -6.01626666e-01,  7.56607964e-01,\n",
       "        7.30285586e-01,  2.83406049e+00, -8.04362610e-01,  2.93592798e+00,\n",
       "        9.02313898e-01,  1.83852629e+00,  5.07915260e-01,  1.27770488e+00,\n",
       "       -7.90840016e-01,  5.62357079e-01,  8.33079677e-01,  2.96113055e+00])"
      ]
     },
     "execution_count": 100,
     "metadata": {},
     "output_type": "execute_result"
    }
   ],
   "source": [
    "y_train"
   ]
  },
  {
   "cell_type": "code",
   "execution_count": 101,
   "id": "122db6f2",
   "metadata": {},
   "outputs": [],
   "source": [
    "learning_rate=0.01 #ranges from 0.01 to 1\n",
    "training_epochs=100 #number of loops for training through all your data to update parameters"
   ]
  },
  {
   "cell_type": "code",
   "execution_count": 102,
   "id": "137c00c7",
   "metadata": {},
   "outputs": [
    {
     "data": {
      "text/plain": [
       "<matplotlib.collections.PathCollection at 0x1b4befae860>"
      ]
     },
     "execution_count": 102,
     "metadata": {},
     "output_type": "execute_result"
    },
    {
     "data": {
      "image/png": "[encoded data removed]",
      "text/plain": [
       "<Figure size 432x288 with 1 Axes>"
      ]
     },
     "metadata": {
      "needs_background": "light"
     },
     "output_type": "display_data"
    }
   ],
   "source": [
    "plt.scatter(x_train,y_train)"
   ]
  },
  {
   "cell_type": "code",
   "execution_count": 103,
   "id": "224988fb",
   "metadata": {},
   "outputs": [],
   "source": [
    "weight=tf.Variable(0.)"
   ]
  },
  {
   "cell_type": "code",
   "execution_count": 104,
   "id": "fa7dc769",
   "metadata": {},
   "outputs": [],
   "source": [
    "bias=tf.Variable(0.)"
   ]
  },
  {
   "cell_type": "code",
   "execution_count": 105,
   "id": "3b5fd22a",
   "metadata": {},
   "outputs": [],
   "source": [
    "#create linear regression expression"
   ]
  },
  {
   "cell_type": "code",
   "execution_count": 106,
   "id": "776def65",
   "metadata": {},
   "outputs": [],
   "source": [
    "#defining linear regression expression\n",
    "def linreg(x):\n",
    "    y=weight*x+bias\n",
    "    return y               #call this function while training"
   ]
  },
  {
   "cell_type": "code",
   "execution_count": 107,
   "id": "520c5814",
   "metadata": {},
   "outputs": [],
   "source": [
    "#defining loss function\n",
    "#here loss function is Measn Squared Error\n",
    "def squared_error(y_pred,y_true):\n",
    "    return tf.reduce_mean(tf.square(y_pred-y_true))"
   ]
  },
  {
   "cell_type": "code",
   "execution_count": 108,
   "id": "4da5c0a2",
   "metadata": {},
   "outputs": [],
   "source": [
    "#we will use gradient tape to keep track of loss,compute loss within gradient tape context"
   ]
  },
  {
   "cell_type": "code",
   "execution_count": 109,
   "id": "cb2989f0",
   "metadata": {},
   "outputs": [
    {
     "name": "stdout",
     "output_type": "stream",
     "text": [
      "Epoch count 0: Loss value:1.4650483131408691\n",
      "Epoch count 1: Loss value:1.4490526914596558\n",
      "Epoch count 2: Loss value:1.4338507652282715\n",
      "Epoch count 3: Loss value:1.4194027185440063\n",
      "Epoch count 4: Loss value:1.4056708812713623\n",
      "Epoch count 5: Loss value:1.3926196098327637\n",
      "Epoch count 6: Loss value:1.3802145719528198\n",
      "Epoch count 7: Loss value:1.3684238195419312\n",
      "Epoch count 8: Loss value:1.357216238975525\n",
      "Epoch count 9: Loss value:1.3465625047683716\n",
      "Epoch count 10: Loss value:1.3364354372024536\n",
      "Epoch count 11: Loss value:1.326808214187622\n",
      "Epoch count 12: Loss value:1.3176560401916504\n",
      "Epoch count 13: Loss value:1.308955192565918\n",
      "Epoch count 14: Loss value:1.3006830215454102\n",
      "Epoch count 15: Loss value:1.2928178310394287\n",
      "Epoch count 16: Loss value:1.2853397130966187\n",
      "Epoch count 17: Loss value:1.2782288789749146\n",
      "Epoch count 18: Loss value:1.2714674472808838\n",
      "Epoch count 19: Loss value:1.2650375366210938\n",
      "Epoch count 20: Loss value:1.2589226961135864\n",
      "Epoch count 21: Loss value:1.2531070709228516\n",
      "Epoch count 22: Loss value:1.2475758790969849\n",
      "Epoch count 23: Loss value:1.2423148155212402\n",
      "Epoch count 24: Loss value:1.2373102903366089\n",
      "Epoch count 25: Loss value:1.2325494289398193\n",
      "Epoch count 26: Loss value:1.228020191192627\n",
      "Epoch count 27: Loss value:1.2237111330032349\n",
      "Epoch count 28: Loss value:1.2196109294891357\n",
      "Epoch count 29: Loss value:1.2157093286514282\n",
      "Epoch count 30: Loss value:1.2119964361190796\n",
      "Epoch count 31: Loss value:1.2084627151489258\n",
      "Epoch count 32: Loss value:1.205099105834961\n",
      "Epoch count 33: Loss value:1.201897382736206\n",
      "Epoch count 34: Loss value:1.1988492012023926\n",
      "Epoch count 35: Loss value:1.1959471702575684\n",
      "Epoch count 36: Loss value:1.1931837797164917\n",
      "Epoch count 37: Loss value:1.190551996231079\n",
      "Epoch count 38: Loss value:1.1880455017089844\n",
      "Epoch count 39: Loss value:1.1856579780578613\n",
      "Epoch count 40: Loss value:1.1833833456039429\n",
      "Epoch count 41: Loss value:1.1812162399291992\n",
      "Epoch count 42: Loss value:1.1791510581970215\n",
      "Epoch count 43: Loss value:1.177182674407959\n",
      "Epoch count 44: Loss value:1.1753064393997192\n",
      "Epoch count 45: Loss value:1.1735177040100098\n",
      "Epoch count 46: Loss value:1.1718120574951172\n",
      "Epoch count 47: Loss value:1.1701854467391968\n",
      "Epoch count 48: Loss value:1.1686336994171143\n",
      "Epoch count 49: Loss value:1.1671533584594727\n",
      "Epoch count 50: Loss value:1.1657408475875854\n",
      "Epoch count 51: Loss value:1.1643925905227661\n",
      "Epoch count 52: Loss value:1.1631054878234863\n",
      "Epoch count 53: Loss value:1.1618765592575073\n",
      "Epoch count 54: Loss value:1.1607028245925903\n",
      "Epoch count 55: Loss value:1.1595815420150757\n",
      "Epoch count 56: Loss value:1.1585100889205933\n",
      "Epoch count 57: Loss value:1.157486081123352\n",
      "Epoch count 58: Loss value:1.156507134437561\n",
      "Epoch count 59: Loss value:1.1555708646774292\n",
      "Epoch count 60: Loss value:1.1546752452850342\n",
      "Epoch count 61: Loss value:1.1538184881210327\n",
      "Epoch count 62: Loss value:1.1529982089996338\n",
      "Epoch count 63: Loss value:1.1522128582000732\n",
      "Epoch count 64: Loss value:1.1514607667922974\n",
      "Epoch count 65: Loss value:1.150740146636963\n",
      "Epoch count 66: Loss value:1.1500495672225952\n",
      "Epoch count 67: Loss value:1.1493873596191406\n",
      "Epoch count 68: Loss value:1.1487523317337036\n",
      "Epoch count 69: Loss value:1.14814293384552\n",
      "Epoch count 70: Loss value:1.1475579738616943\n",
      "Epoch count 71: Loss value:1.1469964981079102\n",
      "Epoch count 72: Loss value:1.1464569568634033\n",
      "Epoch count 73: Loss value:1.1459382772445679\n",
      "Epoch count 74: Loss value:1.145439863204956\n",
      "Epoch count 75: Loss value:1.1449601650238037\n",
      "Epoch count 76: Loss value:1.1444987058639526\n",
      "Epoch count 77: Loss value:1.1440544128417969\n",
      "Epoch count 78: Loss value:1.14362633228302\n",
      "Epoch count 79: Loss value:1.1432138681411743\n",
      "Epoch count 80: Loss value:1.142816185951233\n",
      "Epoch count 81: Loss value:1.142432451248169\n",
      "Epoch count 82: Loss value:1.1420620679855347\n",
      "Epoch count 83: Loss value:1.1417044401168823\n",
      "Epoch count 84: Loss value:1.1413588523864746\n",
      "Epoch count 85: Loss value:1.1410248279571533\n",
      "Epoch count 86: Loss value:1.1407016515731812\n",
      "Epoch count 87: Loss value:1.1403888463974\n",
      "Epoch count 88: Loss value:1.1400859355926514\n",
      "Epoch count 89: Loss value:1.1397924423217773\n",
      "Epoch count 90: Loss value:1.1395080089569092\n",
      "Epoch count 91: Loss value:1.1392320394515991\n",
      "Epoch count 92: Loss value:1.1389641761779785\n",
      "Epoch count 93: Loss value:1.1387040615081787\n",
      "Epoch count 94: Loss value:1.1384512186050415\n",
      "Epoch count 95: Loss value:1.1382054090499878\n",
      "Epoch count 96: Loss value:1.137966275215149\n",
      "Epoch count 97: Loss value:1.1377334594726562\n",
      "Epoch count 98: Loss value:1.1375067234039307\n",
      "Epoch count 99: Loss value:1.1372857093811035\n"
     ]
    }
   ],
   "source": [
    "#train model\n",
    "for epoch in range(training_epochs):\n",
    "    with tf.GradientTape() as tape:\n",
    "        y_predicted=linreg(x_train)\n",
    "        loss=squared_error(y_predicted,y_train)\n",
    "        #get gradient ,optimisation is done using gradient descent\n",
    "        gradients=tape.gradient(loss,[weight,bias])\n",
    "        #adjust weights\n",
    "        weight.assign_sub(gradients[0]*learning_rate) #weight=weight-learning rate*partial derivative\n",
    "        bias.assign_sub(gradients[1]*learning_rate)   #bias=bias-learning rate*partial_derivative\n",
    "        print(f\"Epoch count {epoch}: Loss value:{loss.numpy()}\")"
   ]
  },
  {
   "cell_type": "code",
   "execution_count": 110,
   "id": "1325ab0d",
   "metadata": {},
   "outputs": [
    {
     "name": "stdout",
     "output_type": "stream",
     "text": [
      "0.32011303\n"
     ]
    }
   ],
   "source": [
    "print(weight.numpy())"
   ]
  },
  {
   "cell_type": "code",
   "execution_count": 111,
   "id": "76d7f7bd",
   "metadata": {},
   "outputs": [
    {
     "name": "stdout",
     "output_type": "stream",
     "text": [
      "0.35172966\n"
     ]
    }
   ],
   "source": [
    "print(bias.numpy())"
   ]
  },
  {
   "cell_type": "code",
   "execution_count": 112,
   "id": "b16ad414",
   "metadata": {},
   "outputs": [
    {
     "data": {
      "text/plain": [
       "[<matplotlib.lines.Line2D at 0x1b4bdee8208>]"
      ]
     },
     "execution_count": 112,
     "metadata": {},
     "output_type": "execute_result"
    },
    {
     "data": {
      "image/png": "[encoded data removed]",
      "text/plain": [
       "<Figure size 432x288 with 1 Axes>"
      ]
     },
     "metadata": {
      "needs_background": "light"
     },
     "output_type": "display_data"
    }
   ],
   "source": [
    "plt.scatter(x_train,y_train)\n",
    "plt.plot(x_train,linreg(x_train),color=\"r\")"
   ]
  },
  {
   "cell_type": "code",
   "execution_count": null,
   "id": "10568acf",
   "metadata": {},
   "outputs": [],
   "source": []
  }
 ],
 "metadata": {
  "kernelspec": {
   "display_name": "Python 3",
   "language": "python",
   "name": "python3"
  },
  "language_info": {
   "codemirror_mode": {
    "name": "ipython",
    "version": 3
   },
   "file_extension": ".py",
   "mimetype": "text/x-python",
   "name": "python",
   "nbconvert_exporter": "python",
   "pygments_lexer": "ipython3",
   "version": "3.6.13"
  }
 },
 "nbformat": 4,
 "nbformat_minor": 5
}
