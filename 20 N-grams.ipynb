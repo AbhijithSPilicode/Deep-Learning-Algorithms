{
 "cells": [
  {
   "cell_type": "code",
   "execution_count": 16,
   "id": "4f91bfbd",
   "metadata": {},
   "outputs": [],
   "source": [
    "#N=2 Bigrams"
   ]
  },
  {
   "cell_type": "code",
   "execution_count": 17,
   "id": "4b8faa82",
   "metadata": {},
   "outputs": [],
   "source": [
    "from nltk.util import ngrams"
   ]
  },
  {
   "cell_type": "code",
   "execution_count": 18,
   "id": "a22a8e30",
   "metadata": {},
   "outputs": [],
   "source": [
    "s=\"one two three four\""
   ]
  },
  {
   "cell_type": "code",
   "execution_count": 19,
   "id": "b442938d",
   "metadata": {},
   "outputs": [],
   "source": [
    "s=s.lower() #converting to lower keys"
   ]
  },
  {
   "cell_type": "code",
   "execution_count": 20,
   "id": "ad794c35",
   "metadata": {},
   "outputs": [
    {
     "data": {
      "text/plain": [
       "'one two three four'"
      ]
     },
     "execution_count": 20,
     "metadata": {},
     "output_type": "execute_result"
    }
   ],
   "source": [
    "import re\n",
    "s=re.sub(r'[^a-zA-Z0-9\\s]',' ',s)\n",
    "s"
   ]
  },
  {
   "cell_type": "code",
   "execution_count": 21,
   "id": "de8c420e",
   "metadata": {},
   "outputs": [
    {
     "data": {
      "text/plain": [
       "['one', 'two', 'three', 'four']"
      ]
     },
     "execution_count": 21,
     "metadata": {},
     "output_type": "execute_result"
    }
   ],
   "source": [
    "tokens=[token for token in s.split(\" \") if token!= \"\"]\n",
    "tokens"
   ]
  },
  {
   "cell_type": "code",
   "execution_count": 22,
   "id": "8aacd549",
   "metadata": {},
   "outputs": [
    {
     "data": {
      "text/plain": [
       "[('one', 'two', 'three'), ('two', 'three', 'four')]"
      ]
     },
     "execution_count": 22,
     "metadata": {},
     "output_type": "execute_result"
    }
   ],
   "source": [
    "output=list(ngrams(tokens,3)) #3 set of words\n",
    "output"
   ]
  },
  {
   "cell_type": "code",
   "execution_count": 23,
   "id": "0317ef16",
   "metadata": {},
   "outputs": [
    {
     "data": {
      "text/plain": [
       "[('one', 'two'), ('two', 'three'), ('three', 'four')]"
      ]
     },
     "execution_count": 23,
     "metadata": {},
     "output_type": "execute_result"
    }
   ],
   "source": [
    "output=list(ngrams(tokens,2))\n",
    "output  #two set of words"
   ]
  },
  {
   "cell_type": "code",
   "execution_count": 24,
   "id": "c3b04b86",
   "metadata": {},
   "outputs": [
    {
     "data": {
      "text/plain": [
       "[('one', 'two', 'three', 'four')]"
      ]
     },
     "execution_count": 24,
     "metadata": {},
     "output_type": "execute_result"
    }
   ],
   "source": [
    "output=list(ngrams(tokens,4)) #3 set of words\n",
    "output"
   ]
  },
  {
   "cell_type": "code",
   "execution_count": null,
   "id": "74db6baf",
   "metadata": {},
   "outputs": [],
   "source": []
  }
 ],
 "metadata": {
  "kernelspec": {
   "display_name": "Python 3",
   "language": "python",
   "name": "python3"
  },
  "language_info": {
   "codemirror_mode": {
    "name": "ipython",
    "version": 3
   },
   "file_extension": ".py",
   "mimetype": "text/x-python",
   "name": "python",
   "nbconvert_exporter": "python",
   "pygments_lexer": "ipython3",
   "version": "3.6.13"
  }
 },
 "nbformat": 4,
 "nbformat_minor": 5
}
