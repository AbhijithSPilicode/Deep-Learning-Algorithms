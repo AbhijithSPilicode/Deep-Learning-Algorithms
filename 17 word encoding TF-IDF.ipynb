{
 "cells": [
  {
   "cell_type": "code",
   "execution_count": 20,
   "id": "3c460732",
   "metadata": {},
   "outputs": [],
   "source": [
    "#TF-Term Frequency\n",
    "#IDF(INVERSE DOCUMENT FREQUENCY):A Measure of how important a word in sentence"
   ]
  },
  {
   "cell_type": "code",
   "execution_count": 21,
   "id": "0b82aeb8",
   "metadata": {},
   "outputs": [],
   "source": [
    "from sklearn.feature_extraction.text import TfidfVectorizer"
   ]
  },
  {
   "cell_type": "code",
   "execution_count": 22,
   "id": "90098b70",
   "metadata": {},
   "outputs": [],
   "source": [
    "tfidf=TfidfVectorizer()"
   ]
  },
  {
   "cell_type": "code",
   "execution_count": 23,
   "id": "1333eb5e",
   "metadata": {},
   "outputs": [],
   "source": [
    "doc1=\"Piford provide trainings to working professionals\"\n",
    "doc2=\"Piford provide trainings to students\""
   ]
  },
  {
   "cell_type": "code",
   "execution_count": 24,
   "id": "45b7e14c",
   "metadata": {},
   "outputs": [],
   "source": [
    "response=tfidf.fit_transform([doc1,doc2])"
   ]
  },
  {
   "cell_type": "code",
   "execution_count": 25,
   "id": "1276f9c7",
   "metadata": {},
   "outputs": [
    {
     "data": {
      "text/plain": [
       "{'piford': 0,\n",
       " 'provide': 2,\n",
       " 'trainings': 5,\n",
       " 'to': 4,\n",
       " 'working': 6,\n",
       " 'professionals': 1,\n",
       " 'students': 3}"
      ]
     },
     "execution_count": 25,
     "metadata": {},
     "output_type": "execute_result"
    }
   ],
   "source": [
    "tfidf.vocabulary_ #each word is given encoding"
   ]
  },
  {
   "cell_type": "code",
   "execution_count": 26,
   "id": "f3e99885",
   "metadata": {},
   "outputs": [
    {
     "name": "stdout",
     "output_type": "stream",
     "text": [
      "  (0, 1)\t0.49844627974580596\n",
      "  (0, 6)\t0.49844627974580596\n",
      "  (0, 4)\t0.35464863330313684\n",
      "  (0, 5)\t0.35464863330313684\n",
      "  (0, 2)\t0.35464863330313684\n",
      "  (0, 0)\t0.35464863330313684\n",
      "  (1, 3)\t0.5749618667993135\n",
      "  (1, 4)\t0.40909010368335985\n",
      "  (1, 5)\t0.40909010368335985\n",
      "  (1, 2)\t0.40909010368335985\n",
      "  (1, 0)\t0.40909010368335985\n"
     ]
    }
   ],
   "source": [
    "print(response) #0 means doc1,1 is doc2 first number\n",
    "#(second number in bracket is the word encoded)"
   ]
  },
  {
   "cell_type": "code",
   "execution_count": null,
   "id": "852549d3",
   "metadata": {},
   "outputs": [],
   "source": []
  }
 ],
 "metadata": {
  "kernelspec": {
   "display_name": "Python 3",
   "language": "python",
   "name": "python3"
  },
  "language_info": {
   "codemirror_mode": {
    "name": "ipython",
    "version": 3
   },
   "file_extension": ".py",
   "mimetype": "text/x-python",
   "name": "python",
   "nbconvert_exporter": "python",
   "pygments_lexer": "ipython3",
   "version": "3.6.13"
  }
 },
 "nbformat": 4,
 "nbformat_minor": 5
}
