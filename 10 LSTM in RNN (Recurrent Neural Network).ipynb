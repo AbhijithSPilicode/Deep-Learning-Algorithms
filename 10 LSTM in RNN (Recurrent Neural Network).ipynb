{
 "cells": [
  {
   "cell_type": "code",
   "execution_count": 110,
   "id": "3dfb7a66",
   "metadata": {},
   "outputs": [],
   "source": [
    "from keras.models import Sequential\n",
    "from keras.layers import Dense,LSTM"
   ]
  },
  {
   "cell_type": "code",
   "execution_count": 111,
   "id": "5f02201b",
   "metadata": {},
   "outputs": [
    {
     "data": {
      "text/plain": [
       "[[[0.0], [0.01], [0.02], [0.03], [0.04]],\n",
       " [[0.01], [0.02], [0.03], [0.04], [0.05]],\n",
       " [[0.02], [0.03], [0.04], [0.05], [0.06]],\n",
       " [[0.03], [0.04], [0.05], [0.06], [0.07]],\n",
       " [[0.04], [0.05], [0.06], [0.07], [0.08]],\n",
       " [[0.05], [0.06], [0.07], [0.08], [0.09]],\n",
       " [[0.06], [0.07], [0.08], [0.09], [0.1]],\n",
       " [[0.07], [0.08], [0.09], [0.1], [0.11]],\n",
       " [[0.08], [0.09], [0.1], [0.11], [0.12]],\n",
       " [[0.09], [0.1], [0.11], [0.12], [0.13]],\n",
       " [[0.1], [0.11], [0.12], [0.13], [0.14]],\n",
       " [[0.11], [0.12], [0.13], [0.14], [0.15]],\n",
       " [[0.12], [0.13], [0.14], [0.15], [0.16]],\n",
       " [[0.13], [0.14], [0.15], [0.16], [0.17]],\n",
       " [[0.14], [0.15], [0.16], [0.17], [0.18]],\n",
       " [[0.15], [0.16], [0.17], [0.18], [0.19]],\n",
       " [[0.16], [0.17], [0.18], [0.19], [0.2]],\n",
       " [[0.17], [0.18], [0.19], [0.2], [0.21]],\n",
       " [[0.18], [0.19], [0.2], [0.21], [0.22]],\n",
       " [[0.19], [0.2], [0.21], [0.22], [0.23]],\n",
       " [[0.2], [0.21], [0.22], [0.23], [0.24]],\n",
       " [[0.21], [0.22], [0.23], [0.24], [0.25]],\n",
       " [[0.22], [0.23], [0.24], [0.25], [0.26]],\n",
       " [[0.23], [0.24], [0.25], [0.26], [0.27]],\n",
       " [[0.24], [0.25], [0.26], [0.27], [0.28]],\n",
       " [[0.25], [0.26], [0.27], [0.28], [0.29]],\n",
       " [[0.26], [0.27], [0.28], [0.29], [0.3]],\n",
       " [[0.27], [0.28], [0.29], [0.3], [0.31]],\n",
       " [[0.28], [0.29], [0.3], [0.31], [0.32]],\n",
       " [[0.29], [0.3], [0.31], [0.32], [0.33]],\n",
       " [[0.3], [0.31], [0.32], [0.33], [0.34]],\n",
       " [[0.31], [0.32], [0.33], [0.34], [0.35]],\n",
       " [[0.32], [0.33], [0.34], [0.35], [0.36]],\n",
       " [[0.33], [0.34], [0.35], [0.36], [0.37]],\n",
       " [[0.34], [0.35], [0.36], [0.37], [0.38]],\n",
       " [[0.35], [0.36], [0.37], [0.38], [0.39]],\n",
       " [[0.36], [0.37], [0.38], [0.39], [0.4]],\n",
       " [[0.37], [0.38], [0.39], [0.4], [0.41]],\n",
       " [[0.38], [0.39], [0.4], [0.41], [0.42]],\n",
       " [[0.39], [0.4], [0.41], [0.42], [0.43]],\n",
       " [[0.4], [0.41], [0.42], [0.43], [0.44]],\n",
       " [[0.41], [0.42], [0.43], [0.44], [0.45]],\n",
       " [[0.42], [0.43], [0.44], [0.45], [0.46]],\n",
       " [[0.43], [0.44], [0.45], [0.46], [0.47]],\n",
       " [[0.44], [0.45], [0.46], [0.47], [0.48]],\n",
       " [[0.45], [0.46], [0.47], [0.48], [0.49]],\n",
       " [[0.46], [0.47], [0.48], [0.49], [0.5]],\n",
       " [[0.47], [0.48], [0.49], [0.5], [0.51]],\n",
       " [[0.48], [0.49], [0.5], [0.51], [0.52]],\n",
       " [[0.49], [0.5], [0.51], [0.52], [0.53]],\n",
       " [[0.5], [0.51], [0.52], [0.53], [0.54]],\n",
       " [[0.51], [0.52], [0.53], [0.54], [0.55]],\n",
       " [[0.52], [0.53], [0.54], [0.55], [0.56]],\n",
       " [[0.53], [0.54], [0.55], [0.56], [0.57]],\n",
       " [[0.54], [0.55], [0.56], [0.57], [0.58]],\n",
       " [[0.55], [0.56], [0.57], [0.58], [0.59]],\n",
       " [[0.56], [0.57], [0.58], [0.59], [0.6]],\n",
       " [[0.57], [0.58], [0.59], [0.6], [0.61]],\n",
       " [[0.58], [0.59], [0.6], [0.61], [0.62]],\n",
       " [[0.59], [0.6], [0.61], [0.62], [0.63]],\n",
       " [[0.6], [0.61], [0.62], [0.63], [0.64]],\n",
       " [[0.61], [0.62], [0.63], [0.64], [0.65]],\n",
       " [[0.62], [0.63], [0.64], [0.65], [0.66]],\n",
       " [[0.63], [0.64], [0.65], [0.66], [0.67]],\n",
       " [[0.64], [0.65], [0.66], [0.67], [0.68]],\n",
       " [[0.65], [0.66], [0.67], [0.68], [0.69]],\n",
       " [[0.66], [0.67], [0.68], [0.69], [0.7]],\n",
       " [[0.67], [0.68], [0.69], [0.7], [0.71]],\n",
       " [[0.68], [0.69], [0.7], [0.71], [0.72]],\n",
       " [[0.69], [0.7], [0.71], [0.72], [0.73]],\n",
       " [[0.7], [0.71], [0.72], [0.73], [0.74]],\n",
       " [[0.71], [0.72], [0.73], [0.74], [0.75]],\n",
       " [[0.72], [0.73], [0.74], [0.75], [0.76]],\n",
       " [[0.73], [0.74], [0.75], [0.76], [0.77]],\n",
       " [[0.74], [0.75], [0.76], [0.77], [0.78]],\n",
       " [[0.75], [0.76], [0.77], [0.78], [0.79]],\n",
       " [[0.76], [0.77], [0.78], [0.79], [0.8]],\n",
       " [[0.77], [0.78], [0.79], [0.8], [0.81]],\n",
       " [[0.78], [0.79], [0.8], [0.81], [0.82]],\n",
       " [[0.79], [0.8], [0.81], [0.82], [0.83]],\n",
       " [[0.8], [0.81], [0.82], [0.83], [0.84]],\n",
       " [[0.81], [0.82], [0.83], [0.84], [0.85]],\n",
       " [[0.82], [0.83], [0.84], [0.85], [0.86]],\n",
       " [[0.83], [0.84], [0.85], [0.86], [0.87]],\n",
       " [[0.84], [0.85], [0.86], [0.87], [0.88]],\n",
       " [[0.85], [0.86], [0.87], [0.88], [0.89]],\n",
       " [[0.86], [0.87], [0.88], [0.89], [0.9]],\n",
       " [[0.87], [0.88], [0.89], [0.9], [0.91]],\n",
       " [[0.88], [0.89], [0.9], [0.91], [0.92]],\n",
       " [[0.89], [0.9], [0.91], [0.92], [0.93]],\n",
       " [[0.9], [0.91], [0.92], [0.93], [0.94]],\n",
       " [[0.91], [0.92], [0.93], [0.94], [0.95]],\n",
       " [[0.92], [0.93], [0.94], [0.95], [0.96]],\n",
       " [[0.93], [0.94], [0.95], [0.96], [0.97]],\n",
       " [[0.94], [0.95], [0.96], [0.97], [0.98]],\n",
       " [[0.95], [0.96], [0.97], [0.98], [0.99]],\n",
       " [[0.96], [0.97], [0.98], [0.99], [1.0]],\n",
       " [[0.97], [0.98], [0.99], [1.0], [1.01]],\n",
       " [[0.98], [0.99], [1.0], [1.01], [1.02]],\n",
       " [[0.99], [1.0], [1.01], [1.02], [1.03]]]"
      ]
     },
     "execution_count": 111,
     "metadata": {},
     "output_type": "execute_result"
    }
   ],
   "source": [
    "#generating 100 vectors of 5 consecutive digits\n",
    "Data=[[[(i+j)/100] for i in range(5)] for j in range(100)]\n",
    "Data #/100 for scaling"
   ]
  },
  {
   "cell_type": "code",
   "execution_count": 112,
   "id": "eb110718",
   "metadata": {},
   "outputs": [],
   "source": [
    "#total 100 vector are generated with each having 5 digits"
   ]
  },
  {
   "cell_type": "code",
   "execution_count": 113,
   "id": "181b6903",
   "metadata": {},
   "outputs": [
    {
     "data": {
      "text/plain": [
       "[0.05,\n",
       " 0.06,\n",
       " 0.07,\n",
       " 0.08,\n",
       " 0.09,\n",
       " 0.1,\n",
       " 0.11,\n",
       " 0.12,\n",
       " 0.13,\n",
       " 0.14,\n",
       " 0.15,\n",
       " 0.16,\n",
       " 0.17,\n",
       " 0.18,\n",
       " 0.19,\n",
       " 0.2,\n",
       " 0.21,\n",
       " 0.22,\n",
       " 0.23,\n",
       " 0.24,\n",
       " 0.25,\n",
       " 0.26,\n",
       " 0.27,\n",
       " 0.28,\n",
       " 0.29,\n",
       " 0.3,\n",
       " 0.31,\n",
       " 0.32,\n",
       " 0.33,\n",
       " 0.34,\n",
       " 0.35,\n",
       " 0.36,\n",
       " 0.37,\n",
       " 0.38,\n",
       " 0.39,\n",
       " 0.4,\n",
       " 0.41,\n",
       " 0.42,\n",
       " 0.43,\n",
       " 0.44,\n",
       " 0.45,\n",
       " 0.46,\n",
       " 0.47,\n",
       " 0.48,\n",
       " 0.49,\n",
       " 0.5,\n",
       " 0.51,\n",
       " 0.52,\n",
       " 0.53,\n",
       " 0.54,\n",
       " 0.55,\n",
       " 0.56,\n",
       " 0.57,\n",
       " 0.58,\n",
       " 0.59,\n",
       " 0.6,\n",
       " 0.61,\n",
       " 0.62,\n",
       " 0.63,\n",
       " 0.64,\n",
       " 0.65,\n",
       " 0.66,\n",
       " 0.67,\n",
       " 0.68,\n",
       " 0.69,\n",
       " 0.7,\n",
       " 0.71,\n",
       " 0.72,\n",
       " 0.73,\n",
       " 0.74,\n",
       " 0.75,\n",
       " 0.76,\n",
       " 0.77,\n",
       " 0.78,\n",
       " 0.79,\n",
       " 0.8,\n",
       " 0.81,\n",
       " 0.82,\n",
       " 0.83,\n",
       " 0.84,\n",
       " 0.85,\n",
       " 0.86,\n",
       " 0.87,\n",
       " 0.88,\n",
       " 0.89,\n",
       " 0.9,\n",
       " 0.91,\n",
       " 0.92,\n",
       " 0.93,\n",
       " 0.94,\n",
       " 0.95,\n",
       " 0.96,\n",
       " 0.97,\n",
       " 0.98,\n",
       " 0.99,\n",
       " 1.0,\n",
       " 1.01,\n",
       " 1.02,\n",
       " 1.03,\n",
       " 1.04]"
      ]
     },
     "execution_count": 113,
     "metadata": {},
     "output_type": "execute_result"
    }
   ],
   "source": [
    "#next number in each vector\n",
    "target=[(i+5)/100 for i in range(100)]\n",
    "target"
   ]
  },
  {
   "cell_type": "code",
   "execution_count": 114,
   "id": "07d303a7",
   "metadata": {},
   "outputs": [],
   "source": [
    "#now we convert target and input variable into an array\n",
    "import numpy as np\n",
    "data=np.array(Data)\n",
    "target=np.array(target)"
   ]
  },
  {
   "cell_type": "code",
   "execution_count": 115,
   "id": "39976389",
   "metadata": {},
   "outputs": [],
   "source": [
    "#after converting to array,splitting of dataset\n",
    "from sklearn.model_selection import train_test_split\n",
    "x_train,x_test,y_train,y_test=train_test_split(data,target,test_size=0.2)"
   ]
  },
  {
   "cell_type": "code",
   "execution_count": 116,
   "id": "6067ec20",
   "metadata": {},
   "outputs": [
    {
     "data": {
      "text/plain": [
       "(80, 5, 1)"
      ]
     },
     "execution_count": 116,
     "metadata": {},
     "output_type": "execute_result"
    }
   ],
   "source": [
    "x_train.shape"
   ]
  },
  {
   "cell_type": "code",
   "execution_count": 117,
   "id": "4e631a2d",
   "metadata": {},
   "outputs": [],
   "source": [
    "#create model\n",
    "model=Sequential()\n",
    "#adding LSTM layer(Long Short Term Memory Network)\n",
    "#LSTM only work in 3D array\n",
    "model.add(LSTM((1),batch_input_shape=(None,5,1),return_sequences=True)) #if we create one more layer after this,we have to write return_sequence=True \n",
    "model.add(LSTM((1),return_sequences=False))"
   ]
  },
  {
   "cell_type": "code",
   "execution_count": 118,
   "id": "da2c69a0",
   "metadata": {},
   "outputs": [],
   "source": [
    "model.compile(loss='mean_absolute_error',optimizer='adam',metrics=['accuracy'])"
   ]
  },
  {
   "cell_type": "code",
   "execution_count": 119,
   "id": "8ba35033",
   "metadata": {},
   "outputs": [
    {
     "name": "stdout",
     "output_type": "stream",
     "text": [
      "Epoch 1/100\n",
      "3/3 [==============================] - 5s 394ms/step - loss: 0.6201 - accuracy: 0.0000e+00 - val_loss: 0.6379 - val_accuracy: 0.0000e+00\n",
      "Epoch 2/100\n",
      "3/3 [==============================] - 0s 16ms/step - loss: 0.6135 - accuracy: 0.0000e+00 - val_loss: 0.6314 - val_accuracy: 0.0000e+00\n",
      "Epoch 3/100\n",
      "3/3 [==============================] - 0s 17ms/step - loss: 0.6071 - accuracy: 0.0000e+00 - val_loss: 0.6250 - val_accuracy: 0.0000e+00\n",
      "Epoch 4/100\n",
      "3/3 [==============================] - 0s 23ms/step - loss: 0.6007 - accuracy: 0.0000e+00 - val_loss: 0.6188 - val_accuracy: 0.0000e+00\n",
      "Epoch 5/100\n",
      "3/3 [==============================] - 0s 19ms/step - loss: 0.5946 - accuracy: 0.0000e+00 - val_loss: 0.6127 - val_accuracy: 0.0000e+00\n",
      "Epoch 6/100\n",
      "3/3 [==============================] - 0s 17ms/step - loss: 0.5886 - accuracy: 0.0000e+00 - val_loss: 0.6067 - val_accuracy: 0.0000e+00\n",
      "Epoch 7/100\n",
      "3/3 [==============================] - 0s 18ms/step - loss: 0.5826 - accuracy: 0.0000e+00 - val_loss: 0.6009 - val_accuracy: 0.0000e+00\n",
      "Epoch 8/100\n",
      "3/3 [==============================] - 0s 17ms/step - loss: 0.5769 - accuracy: 0.0000e+00 - val_loss: 0.5953 - val_accuracy: 0.0000e+00\n",
      "Epoch 9/100\n",
      "3/3 [==============================] - 0s 20ms/step - loss: 0.5714 - accuracy: 0.0000e+00 - val_loss: 0.5898 - val_accuracy: 0.0000e+00\n",
      "Epoch 10/100\n",
      "3/3 [==============================] - 0s 17ms/step - loss: 0.5659 - accuracy: 0.0000e+00 - val_loss: 0.5844 - val_accuracy: 0.0000e+00\n",
      "Epoch 11/100\n",
      "3/3 [==============================] - 0s 19ms/step - loss: 0.5607 - accuracy: 0.0000e+00 - val_loss: 0.5792 - val_accuracy: 0.0000e+00\n",
      "Epoch 12/100\n",
      "3/3 [==============================] - 0s 20ms/step - loss: 0.5554 - accuracy: 0.0000e+00 - val_loss: 0.5740 - val_accuracy: 0.0000e+00\n",
      "Epoch 13/100\n",
      "3/3 [==============================] - 0s 19ms/step - loss: 0.5503 - accuracy: 0.0000e+00 - val_loss: 0.5690 - val_accuracy: 0.0000e+00\n",
      "Epoch 14/100\n",
      "3/3 [==============================] - 0s 30ms/step - loss: 0.5454 - accuracy: 0.0000e+00 - val_loss: 0.5642 - val_accuracy: 0.0000e+00\n",
      "Epoch 15/100\n",
      "3/3 [==============================] - 0s 51ms/step - loss: 0.5405 - accuracy: 0.0000e+00 - val_loss: 0.5597 - val_accuracy: 0.0000e+00\n",
      "Epoch 16/100\n",
      "3/3 [==============================] - 0s 38ms/step - loss: 0.5356 - accuracy: 0.0000e+00 - val_loss: 0.5552 - val_accuracy: 0.0000e+00\n",
      "Epoch 17/100\n",
      "3/3 [==============================] - 0s 47ms/step - loss: 0.5309 - accuracy: 0.0000e+00 - val_loss: 0.5508 - val_accuracy: 0.0000e+00\n",
      "Epoch 18/100\n",
      "3/3 [==============================] - 0s 43ms/step - loss: 0.5262 - accuracy: 0.0000e+00 - val_loss: 0.5465 - val_accuracy: 0.0000e+00\n",
      "Epoch 19/100\n",
      "3/3 [==============================] - 0s 27ms/step - loss: 0.5216 - accuracy: 0.0000e+00 - val_loss: 0.5422 - val_accuracy: 0.0000e+00\n",
      "Epoch 20/100\n",
      "3/3 [==============================] - 0s 25ms/step - loss: 0.5170 - accuracy: 0.0000e+00 - val_loss: 0.5378 - val_accuracy: 0.0000e+00\n",
      "Epoch 21/100\n",
      "3/3 [==============================] - 0s 20ms/step - loss: 0.5125 - accuracy: 0.0000e+00 - val_loss: 0.5335 - val_accuracy: 0.0000e+00\n",
      "Epoch 22/100\n",
      "3/3 [==============================] - 0s 22ms/step - loss: 0.5080 - accuracy: 0.0000e+00 - val_loss: 0.5292 - val_accuracy: 0.0000e+00\n",
      "Epoch 23/100\n",
      "3/3 [==============================] - 0s 23ms/step - loss: 0.5035 - accuracy: 0.0000e+00 - val_loss: 0.5249 - val_accuracy: 0.0000e+00\n",
      "Epoch 24/100\n",
      "3/3 [==============================] - 0s 23ms/step - loss: 0.4990 - accuracy: 0.0000e+00 - val_loss: 0.5206 - val_accuracy: 0.0000e+00\n",
      "Epoch 25/100\n",
      "3/3 [==============================] - 0s 17ms/step - loss: 0.4947 - accuracy: 0.0000e+00 - val_loss: 0.5162 - val_accuracy: 0.0000e+00\n",
      "Epoch 26/100\n",
      "3/3 [==============================] - 0s 19ms/step - loss: 0.4902 - accuracy: 0.0000e+00 - val_loss: 0.5118 - val_accuracy: 0.0000e+00\n",
      "Epoch 27/100\n",
      "3/3 [==============================] - 0s 19ms/step - loss: 0.4857 - accuracy: 0.0000e+00 - val_loss: 0.5074 - val_accuracy: 0.0000e+00\n",
      "Epoch 28/100\n",
      "3/3 [==============================] - 0s 23ms/step - loss: 0.4813 - accuracy: 0.0000e+00 - val_loss: 0.5029 - val_accuracy: 0.0000e+00\n",
      "Epoch 29/100\n",
      "3/3 [==============================] - 0s 22ms/step - loss: 0.4768 - accuracy: 0.0000e+00 - val_loss: 0.4985 - val_accuracy: 0.0000e+00\n",
      "Epoch 30/100\n",
      "3/3 [==============================] - 0s 22ms/step - loss: 0.4723 - accuracy: 0.0000e+00 - val_loss: 0.4943 - val_accuracy: 0.0000e+00\n",
      "Epoch 31/100\n",
      "3/3 [==============================] - 0s 20ms/step - loss: 0.4676 - accuracy: 0.0000e+00 - val_loss: 0.4901 - val_accuracy: 0.0000e+00\n",
      "Epoch 32/100\n",
      "3/3 [==============================] - 0s 23ms/step - loss: 0.4630 - accuracy: 0.0000e+00 - val_loss: 0.4857 - val_accuracy: 0.0000e+00\n",
      "Epoch 33/100\n",
      "3/3 [==============================] - 0s 20ms/step - loss: 0.4583 - accuracy: 0.0000e+00 - val_loss: 0.4814 - val_accuracy: 0.0000e+00\n",
      "Epoch 34/100\n",
      "3/3 [==============================] - 0s 22ms/step - loss: 0.4536 - accuracy: 0.0000e+00 - val_loss: 0.4770 - val_accuracy: 0.0000e+00\n",
      "Epoch 35/100\n",
      "3/3 [==============================] - 0s 17ms/step - loss: 0.4490 - accuracy: 0.0000e+00 - val_loss: 0.4725 - val_accuracy: 0.0000e+00\n",
      "Epoch 36/100\n",
      "3/3 [==============================] - 0s 17ms/step - loss: 0.4441 - accuracy: 0.0000e+00 - val_loss: 0.4679 - val_accuracy: 0.0000e+00\n",
      "Epoch 37/100\n",
      "3/3 [==============================] - 0s 17ms/step - loss: 0.4394 - accuracy: 0.0000e+00 - val_loss: 0.4634 - val_accuracy: 0.0000e+00\n",
      "Epoch 38/100\n",
      "3/3 [==============================] - 0s 18ms/step - loss: 0.4350 - accuracy: 0.0000e+00 - val_loss: 0.4587 - val_accuracy: 0.0000e+00\n",
      "Epoch 39/100\n",
      "3/3 [==============================] - 0s 29ms/step - loss: 0.4300 - accuracy: 0.0000e+00 - val_loss: 0.4540 - val_accuracy: 0.0000e+00\n",
      "Epoch 40/100\n",
      "3/3 [==============================] - 0s 20ms/step - loss: 0.4255 - accuracy: 0.0000e+00 - val_loss: 0.4493 - val_accuracy: 0.0000e+00\n",
      "Epoch 41/100\n",
      "3/3 [==============================] - 0s 18ms/step - loss: 0.4208 - accuracy: 0.0000e+00 - val_loss: 0.4445 - val_accuracy: 0.0000e+00\n",
      "Epoch 42/100\n",
      "3/3 [==============================] - 0s 25ms/step - loss: 0.4163 - accuracy: 0.0000e+00 - val_loss: 0.4396 - val_accuracy: 0.0000e+00\n",
      "Epoch 43/100\n",
      "3/3 [==============================] - 0s 40ms/step - loss: 0.4116 - accuracy: 0.0000e+00 - val_loss: 0.4348 - val_accuracy: 0.0000e+00\n",
      "Epoch 44/100\n",
      "3/3 [==============================] - 0s 18ms/step - loss: 0.4068 - accuracy: 0.0000e+00 - val_loss: 0.4300 - val_accuracy: 0.0000e+00\n",
      "Epoch 45/100\n",
      "3/3 [==============================] - 0s 18ms/step - loss: 0.4024 - accuracy: 0.0000e+00 - val_loss: 0.4251 - val_accuracy: 0.0000e+00\n",
      "Epoch 46/100\n",
      "3/3 [==============================] - 0s 20ms/step - loss: 0.3978 - accuracy: 0.0000e+00 - val_loss: 0.4203 - val_accuracy: 0.0000e+00\n",
      "Epoch 47/100\n",
      "3/3 [==============================] - 0s 22ms/step - loss: 0.3936 - accuracy: 0.0000e+00 - val_loss: 0.4153 - val_accuracy: 0.0000e+00\n",
      "Epoch 48/100\n",
      "3/3 [==============================] - 0s 19ms/step - loss: 0.3891 - accuracy: 0.0000e+00 - val_loss: 0.4103 - val_accuracy: 0.0000e+00\n",
      "Epoch 49/100\n",
      "3/3 [==============================] - 0s 19ms/step - loss: 0.3846 - accuracy: 0.0000e+00 - val_loss: 0.4053 - val_accuracy: 0.0000e+00\n",
      "Epoch 50/100\n",
      "3/3 [==============================] - 0s 19ms/step - loss: 0.3803 - accuracy: 0.0000e+00 - val_loss: 0.4003 - val_accuracy: 0.0000e+00\n",
      "Epoch 51/100\n",
      "3/3 [==============================] - 0s 22ms/step - loss: 0.3762 - accuracy: 0.0000e+00 - val_loss: 0.3957 - val_accuracy: 0.0000e+00\n",
      "Epoch 52/100\n",
      "3/3 [==============================] - 0s 18ms/step - loss: 0.3715 - accuracy: 0.0000e+00 - val_loss: 0.3911 - val_accuracy: 0.0000e+00\n",
      "Epoch 53/100\n",
      "3/3 [==============================] - 0s 19ms/step - loss: 0.3673 - accuracy: 0.0000e+00 - val_loss: 0.3865 - val_accuracy: 0.0000e+00\n",
      "Epoch 54/100\n",
      "3/3 [==============================] - 0s 21ms/step - loss: 0.3629 - accuracy: 0.0000e+00 - val_loss: 0.3819 - val_accuracy: 0.0000e+00\n",
      "Epoch 55/100\n",
      "3/3 [==============================] - 0s 17ms/step - loss: 0.3587 - accuracy: 0.0000e+00 - val_loss: 0.3772 - val_accuracy: 0.0000e+00\n",
      "Epoch 56/100\n"
     ]
    },
    {
     "name": "stdout",
     "output_type": "stream",
     "text": [
      "3/3 [==============================] - 0s 18ms/step - loss: 0.3545 - accuracy: 0.0000e+00 - val_loss: 0.3726 - val_accuracy: 0.0000e+00\n",
      "Epoch 57/100\n",
      "3/3 [==============================] - 0s 17ms/step - loss: 0.3505 - accuracy: 0.0000e+00 - val_loss: 0.3680 - val_accuracy: 0.0000e+00\n",
      "Epoch 58/100\n",
      "3/3 [==============================] - 0s 18ms/step - loss: 0.3467 - accuracy: 0.0000e+00 - val_loss: 0.3634 - val_accuracy: 0.0000e+00\n",
      "Epoch 59/100\n",
      "3/3 [==============================] - 0s 28ms/step - loss: 0.3426 - accuracy: 0.0000e+00 - val_loss: 0.3590 - val_accuracy: 0.0000e+00\n",
      "Epoch 60/100\n",
      "3/3 [==============================] - 0s 20ms/step - loss: 0.3389 - accuracy: 0.0000e+00 - val_loss: 0.3545 - val_accuracy: 0.0000e+00\n",
      "Epoch 61/100\n",
      "3/3 [==============================] - 0s 35ms/step - loss: 0.3352 - accuracy: 0.0000e+00 - val_loss: 0.3501 - val_accuracy: 0.0000e+00\n",
      "Epoch 62/100\n",
      "3/3 [==============================] - 0s 50ms/step - loss: 0.3316 - accuracy: 0.0000e+00 - val_loss: 0.3457 - val_accuracy: 0.0000e+00\n",
      "Epoch 63/100\n",
      "3/3 [==============================] - 0s 38ms/step - loss: 0.3283 - accuracy: 0.0000e+00 - val_loss: 0.3413 - val_accuracy: 0.0000e+00\n",
      "Epoch 64/100\n",
      "3/3 [==============================] - 0s 32ms/step - loss: 0.3248 - accuracy: 0.0000e+00 - val_loss: 0.3370 - val_accuracy: 0.0000e+00\n",
      "Epoch 65/100\n",
      "3/3 [==============================] - 0s 23ms/step - loss: 0.3217 - accuracy: 0.0000e+00 - val_loss: 0.3327 - val_accuracy: 0.0000e+00\n",
      "Epoch 66/100\n",
      "3/3 [==============================] - 0s 20ms/step - loss: 0.3185 - accuracy: 0.0000e+00 - val_loss: 0.3285 - val_accuracy: 0.0000e+00\n",
      "Epoch 67/100\n",
      "3/3 [==============================] - 0s 24ms/step - loss: 0.3156 - accuracy: 0.0000e+00 - val_loss: 0.3244 - val_accuracy: 0.0000e+00\n",
      "Epoch 68/100\n",
      "3/3 [==============================] - 0s 22ms/step - loss: 0.3125 - accuracy: 0.0000e+00 - val_loss: 0.3208 - val_accuracy: 0.0000e+00\n",
      "Epoch 69/100\n",
      "3/3 [==============================] - 0s 19ms/step - loss: 0.3096 - accuracy: 0.0000e+00 - val_loss: 0.3174 - val_accuracy: 0.0000e+00\n",
      "Epoch 70/100\n",
      "3/3 [==============================] - 0s 23ms/step - loss: 0.3064 - accuracy: 0.0000e+00 - val_loss: 0.3143 - val_accuracy: 0.0000e+00\n",
      "Epoch 71/100\n",
      "3/3 [==============================] - 0s 19ms/step - loss: 0.3039 - accuracy: 0.0000e+00 - val_loss: 0.3115 - val_accuracy: 0.0000e+00\n",
      "Epoch 72/100\n",
      "3/3 [==============================] - 0s 27ms/step - loss: 0.3006 - accuracy: 0.0000e+00 - val_loss: 0.3090 - val_accuracy: 0.0000e+00\n",
      "Epoch 73/100\n",
      "3/3 [==============================] - 0s 26ms/step - loss: 0.2977 - accuracy: 0.0000e+00 - val_loss: 0.3068 - val_accuracy: 0.0000e+00\n",
      "Epoch 74/100\n",
      "3/3 [==============================] - 0s 29ms/step - loss: 0.2948 - accuracy: 0.0000e+00 - val_loss: 0.3047 - val_accuracy: 0.0000e+00\n",
      "Epoch 75/100\n",
      "3/3 [==============================] - 0s 23ms/step - loss: 0.2917 - accuracy: 0.0000e+00 - val_loss: 0.3026 - val_accuracy: 0.0000e+00\n",
      "Epoch 76/100\n",
      "3/3 [==============================] - 0s 20ms/step - loss: 0.2886 - accuracy: 0.0000e+00 - val_loss: 0.3005 - val_accuracy: 0.0000e+00\n",
      "Epoch 77/100\n",
      "3/3 [==============================] - 0s 23ms/step - loss: 0.2861 - accuracy: 0.0000e+00 - val_loss: 0.2984 - val_accuracy: 0.0000e+00\n",
      "Epoch 78/100\n",
      "3/3 [==============================] - 0s 25ms/step - loss: 0.2830 - accuracy: 0.0000e+00 - val_loss: 0.2964 - val_accuracy: 0.0000e+00\n",
      "Epoch 79/100\n",
      "3/3 [==============================] - 0s 22ms/step - loss: 0.2808 - accuracy: 0.0000e+00 - val_loss: 0.2943 - val_accuracy: 0.0000e+00\n",
      "Epoch 80/100\n",
      "3/3 [==============================] - 0s 20ms/step - loss: 0.2781 - accuracy: 0.0000e+00 - val_loss: 0.2924 - val_accuracy: 0.0000e+00\n",
      "Epoch 81/100\n",
      "3/3 [==============================] - 0s 33ms/step - loss: 0.2758 - accuracy: 0.0000e+00 - val_loss: 0.2905 - val_accuracy: 0.0000e+00\n",
      "Epoch 82/100\n",
      "3/3 [==============================] - 0s 37ms/step - loss: 0.2734 - accuracy: 0.0000e+00 - val_loss: 0.2886 - val_accuracy: 0.0000e+00\n",
      "Epoch 83/100\n",
      "3/3 [==============================] - 0s 20ms/step - loss: 0.2713 - accuracy: 0.0000e+00 - val_loss: 0.2868 - val_accuracy: 0.0000e+00\n",
      "Epoch 84/100\n",
      "3/3 [==============================] - 0s 42ms/step - loss: 0.2692 - accuracy: 0.0000e+00 - val_loss: 0.2852 - val_accuracy: 0.0000e+00\n",
      "Epoch 85/100\n",
      "3/3 [==============================] - 0s 45ms/step - loss: 0.2674 - accuracy: 0.0000e+00 - val_loss: 0.2839 - val_accuracy: 0.0000e+00\n",
      "Epoch 86/100\n",
      "3/3 [==============================] - 0s 45ms/step - loss: 0.2655 - accuracy: 0.0000e+00 - val_loss: 0.2827 - val_accuracy: 0.0000e+00\n",
      "Epoch 87/100\n",
      "3/3 [==============================] - 0s 56ms/step - loss: 0.2633 - accuracy: 0.0000e+00 - val_loss: 0.2815 - val_accuracy: 0.0000e+00\n",
      "Epoch 88/100\n",
      "3/3 [==============================] - 0s 40ms/step - loss: 0.2618 - accuracy: 0.0000e+00 - val_loss: 0.2803 - val_accuracy: 0.0000e+00\n",
      "Epoch 89/100\n",
      "3/3 [==============================] - 0s 37ms/step - loss: 0.2601 - accuracy: 0.0000e+00 - val_loss: 0.2791 - val_accuracy: 0.0000e+00\n",
      "Epoch 90/100\n",
      "3/3 [==============================] - 0s 41ms/step - loss: 0.2583 - accuracy: 0.0000e+00 - val_loss: 0.2780 - val_accuracy: 0.0000e+00\n",
      "Epoch 91/100\n",
      "3/3 [==============================] - 0s 26ms/step - loss: 0.2569 - accuracy: 0.0000e+00 - val_loss: 0.2768 - val_accuracy: 0.0000e+00\n",
      "Epoch 92/100\n",
      "3/3 [==============================] - 0s 32ms/step - loss: 0.2557 - accuracy: 0.0000e+00 - val_loss: 0.2757 - val_accuracy: 0.0000e+00\n",
      "Epoch 93/100\n",
      "3/3 [==============================] - 0s 48ms/step - loss: 0.2542 - accuracy: 0.0000e+00 - val_loss: 0.2747 - val_accuracy: 0.0000e+00\n",
      "Epoch 94/100\n",
      "3/3 [==============================] - 0s 36ms/step - loss: 0.2530 - accuracy: 0.0000e+00 - val_loss: 0.2737 - val_accuracy: 0.0000e+00\n",
      "Epoch 95/100\n",
      "3/3 [==============================] - 0s 21ms/step - loss: 0.2517 - accuracy: 0.0000e+00 - val_loss: 0.2727 - val_accuracy: 0.0000e+00\n",
      "Epoch 96/100\n",
      "3/3 [==============================] - 0s 18ms/step - loss: 0.2507 - accuracy: 0.0000e+00 - val_loss: 0.2717 - val_accuracy: 0.0000e+00\n",
      "Epoch 97/100\n",
      "3/3 [==============================] - 0s 18ms/step - loss: 0.2496 - accuracy: 0.0000e+00 - val_loss: 0.2708 - val_accuracy: 0.0000e+00\n",
      "Epoch 98/100\n",
      "3/3 [==============================] - 0s 21ms/step - loss: 0.2485 - accuracy: 0.0000e+00 - val_loss: 0.2699 - val_accuracy: 0.0000e+00\n",
      "Epoch 99/100\n",
      "3/3 [==============================] - 0s 18ms/step - loss: 0.2477 - accuracy: 0.0000e+00 - val_loss: 0.2691 - val_accuracy: 0.0000e+00\n",
      "Epoch 100/100\n",
      "3/3 [==============================] - 0s 32ms/step - loss: 0.2466 - accuracy: 0.0000e+00 - val_loss: 0.2685 - val_accuracy: 0.0000e+00\n"
     ]
    }
   ],
   "source": [
    "history=model.fit(x_train,y_train,epochs=100,validation_data=(x_test,y_test))"
   ]
  },
  {
   "cell_type": "code",
   "execution_count": 120,
   "id": "2f53045c",
   "metadata": {},
   "outputs": [
    {
     "data": {
      "text/plain": [
       "(20, 5, 1)"
      ]
     },
     "execution_count": 120,
     "metadata": {},
     "output_type": "execute_result"
    }
   ],
   "source": [
    "x_test.shape"
   ]
  },
  {
   "cell_type": "code",
   "execution_count": 121,
   "id": "9e152df7",
   "metadata": {},
   "outputs": [
    {
     "data": {
      "text/plain": [
       "array([[0.4426483 ],\n",
       "       [0.45781493],\n",
       "       [0.4525383 ],\n",
       "       [0.4556659 ],\n",
       "       [0.45700586],\n",
       "       [0.45755085],\n",
       "       [0.45010364],\n",
       "       [0.45357227],\n",
       "       [0.45332482],\n",
       "       [0.4574525 ],\n",
       "       [0.4209129 ],\n",
       "       [0.45796597],\n",
       "       [0.4321412 ],\n",
       "       [0.43837285],\n",
       "       [0.43779457],\n",
       "       [0.44545573],\n",
       "       [0.43894145],\n",
       "       [0.457349  ],\n",
       "       [0.43950003],\n",
       "       [0.42490503]], dtype=float32)"
      ]
     },
     "execution_count": 121,
     "metadata": {},
     "output_type": "execute_result"
    }
   ],
   "source": [
    "results=model.predict(x_test)\n",
    "results"
   ]
  },
  {
   "cell_type": "code",
   "execution_count": 122,
   "id": "46a03309",
   "metadata": {},
   "outputs": [
    {
     "data": {
      "text/plain": [
       "<matplotlib.collections.PathCollection at 0x22cde949240>"
      ]
     },
     "execution_count": 122,
     "metadata": {},
     "output_type": "execute_result"
    },
    {
     "data": {
      "image/png": "[encoded data removed]",
      "text/plain": [
       "<Figure size 432x288 with 1 Axes>"
      ]
     },
     "metadata": {
      "needs_background": "light"
     },
     "output_type": "display_data"
    }
   ],
   "source": [
    "import matplotlib.pyplot as plt\n",
    "plt.scatter(range(20),results,c='r')\n",
    "plt.scatter(range(20),y_test,c='g')"
   ]
  },
  {
   "cell_type": "code",
   "execution_count": 125,
   "id": "4033eaac",
   "metadata": {},
   "outputs": [
    {
     "data": {
      "text/plain": [
       "[<matplotlib.lines.Line2D at 0x22cd7c33be0>]"
      ]
     },
     "execution_count": 125,
     "metadata": {},
     "output_type": "execute_result"
    },
    {
     "data": {
      "image/png": "[encoded data removed]",
      "text/plain": [
       "<Figure size 432x288 with 1 Axes>"
      ]
     },
     "metadata": {
      "needs_background": "light"
     },
     "output_type": "display_data"
    }
   ],
   "source": [
    "plt.plot(history.history['loss']) #still loss is high for epoch=100"
   ]
  },
  {
   "cell_type": "code",
   "execution_count": 124,
   "id": "25100739",
   "metadata": {},
   "outputs": [],
   "source": [
    "#it is still not constant,so we have to divide data/100"
   ]
  }
 ],
 "metadata": {
  "kernelspec": {
   "display_name": "Python 3",
   "language": "python",
   "name": "python3"
  },
  "language_info": {
   "codemirror_mode": {
    "name": "ipython",
    "version": 3
   },
   "file_extension": ".py",
   "mimetype": "text/x-python",
   "name": "python",
   "nbconvert_exporter": "python",
   "pygments_lexer": "ipython3",
   "version": "3.6.13"
  }
 },
 "nbformat": 4,
 "nbformat_minor": 5
}
