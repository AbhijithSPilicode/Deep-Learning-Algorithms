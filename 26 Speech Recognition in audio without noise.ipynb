{
 "cells": [
  {
   "cell_type": "code",
   "execution_count": 1,
   "id": "a71c1072",
   "metadata": {},
   "outputs": [],
   "source": [
    "#Speech-digitalize(0/1)-text"
   ]
  },
  {
   "cell_type": "code",
   "execution_count": 2,
   "id": "ef44ebf7",
   "metadata": {},
   "outputs": [],
   "source": [
    "#Apiai:NLP for identifying what speaker is trying to tell\n",
    "#Google cloud speech"
   ]
  },
  {
   "cell_type": "code",
   "execution_count": 3,
   "id": "b6b5bacc",
   "metadata": {},
   "outputs": [
    {
     "name": "stdout",
     "output_type": "stream",
     "text": [
      "Collecting SpeechRecognition\n",
      "  Downloading SpeechRecognition-3.8.1-py2.py3-none-any.whl (32.8 MB)\n",
      "Installing collected packages: SpeechRecognition\n",
      "Successfully installed SpeechRecognition-3.8.1\n",
      "Note: you may need to restart the kernel to use updated packages.\n"
     ]
    }
   ],
   "source": [
    "#pip install SpeechRecognition"
   ]
  },
  {
   "cell_type": "code",
   "execution_count": 4,
   "id": "896a51f9",
   "metadata": {},
   "outputs": [],
   "source": [
    "#it has a rcognizer class for text to audio conversion or audio to text conversion"
   ]
  },
  {
   "cell_type": "code",
   "execution_count": 5,
   "id": "274fbdf2",
   "metadata": {},
   "outputs": [],
   "source": [
    "import speech_recognition as sr"
   ]
  },
  {
   "cell_type": "code",
   "execution_count": 7,
   "id": "93325eec",
   "metadata": {},
   "outputs": [],
   "source": [
    "r=sr.Recognizer() \n",
    "#it has 7 various methods using APIs,but we ahve to pay\n",
    "#so we are using google which is free"
   ]
  },
  {
   "cell_type": "code",
   "execution_count": 11,
   "id": "695c1905",
   "metadata": {},
   "outputs": [],
   "source": [
    "harvard=sr.AudioFile(\"C:\\\\Users\\\\user\\\\Downloads\\\\audio_files_harvard.wav\")"
   ]
  },
  {
   "cell_type": "code",
   "execution_count": 12,
   "id": "d8238bef",
   "metadata": {},
   "outputs": [],
   "source": [
    "with harvard as source:\n",
    "    audio=r.record(source)"
   ]
  },
  {
   "cell_type": "code",
   "execution_count": 13,
   "id": "b1920e6f",
   "metadata": {},
   "outputs": [
    {
     "data": {
      "text/plain": [
       "'the still smell of old beer drinkers it takes hi to bring out the order I called it yourself invest a salt a kotess find the M tacos Al pastor my favourite is just for food is Bihar cross bun'"
      ]
     },
     "execution_count": 13,
     "metadata": {},
     "output_type": "execute_result"
    }
   ],
   "source": [
    "r.recognize_google(audio)"
   ]
  },
  {
   "cell_type": "code",
   "execution_count": 16,
   "id": "6f484daf",
   "metadata": {},
   "outputs": [],
   "source": [
    "with harvard as source:\n",
    "    audio=r.record(source,duration=4) #until 4 duration\n",
    "    audio2=r.record(source,duration=4)"
   ]
  },
  {
   "cell_type": "code",
   "execution_count": 15,
   "id": "3b9cee94",
   "metadata": {},
   "outputs": [
    {
     "data": {
      "text/plain": [
       "'the still smell of old beer drinkers'"
      ]
     },
     "execution_count": 15,
     "metadata": {},
     "output_type": "execute_result"
    }
   ],
   "source": [
    "r.recognize_google(audio)"
   ]
  },
  {
   "cell_type": "code",
   "execution_count": 17,
   "id": "3f9f659e",
   "metadata": {},
   "outputs": [
    {
     "data": {
      "text/plain": [
       "'ethics he to bring out the order I called it'"
      ]
     },
     "execution_count": 17,
     "metadata": {},
     "output_type": "execute_result"
    }
   ],
   "source": [
    "r.recognize_google(audio2)"
   ]
  },
  {
   "cell_type": "code",
   "execution_count": 18,
   "id": "0dfcee80",
   "metadata": {},
   "outputs": [],
   "source": [
    "with harvard as source:\n",
    "    audio=r.record(source,offset=4,duration=3)"
   ]
  },
  {
   "cell_type": "code",
   "execution_count": 19,
   "id": "fefbda48",
   "metadata": {},
   "outputs": [
    {
     "data": {
      "text/plain": [
       "'it takes heat to bring out the order'"
      ]
     },
     "execution_count": 19,
     "metadata": {},
     "output_type": "execute_result"
    }
   ],
   "source": [
    "r.recognize_google(audio)"
   ]
  },
  {
   "cell_type": "code",
   "execution_count": 20,
   "id": "e0e61d0c",
   "metadata": {},
   "outputs": [],
   "source": [
    "with harvard as source:\n",
    "    audio=r.record(source,offset=4.7,duration=2.8)"
   ]
  },
  {
   "cell_type": "code",
   "execution_count": null,
   "id": "b99cf5d7",
   "metadata": {},
   "outputs": [],
   "source": []
  }
 ],
 "metadata": {
  "kernelspec": {
   "display_name": "Python 3",
   "language": "python",
   "name": "python3"
  },
  "language_info": {
   "codemirror_mode": {
    "name": "ipython",
    "version": 3
   },
   "file_extension": ".py",
   "mimetype": "text/x-python",
   "name": "python",
   "nbconvert_exporter": "python",
   "pygments_lexer": "ipython3",
   "version": "3.6.13"
  }
 },
 "nbformat": 4,
 "nbformat_minor": 5
}
